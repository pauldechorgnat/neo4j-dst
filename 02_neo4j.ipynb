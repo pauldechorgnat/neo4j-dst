{
 "cells": [
  {
   "cell_type": "markdown",
   "metadata": {},
   "source": [
    "<img src=\"https://datascientest.fr/train/assets/logo_datascientest.png\" style=\"height:150px\">\n",
    "\n",
    "<hr style=\"border-width:2px;border-color:#75DFC1\">\n",
    "<center><h1>Neo4J</h1></center>\n",
    "<center><h2>Basics of Cypher</h2></center>\n",
    "<hr style=\"border-width:2px;border-color:#75DFC1\">\n",
    "\n",
    "\n",
    "<blockquote>\n",
    "<center><h3>The Seven Bridges of Königsberg</h3></center>\n",
    "\n",
    "In this exercise, you will create a very simple graph. It is a tribute to Leonhard Euler's solution of the problem of the <a href=\"https://en.wikipedia.org/wiki/Seven_Bridges_of_K%C3%B6nigsberg\">Seven Bridges of Königsberg</a>. His solution is at the origin of graph theory: \n",
    "\n",
    "<center><img src=\"./koenigsb.gif\"></center>\n",
    "<i>The Pregel river flows through the city of Königsberg (currently named Kaliningrad and part of Russia), dividing it into three separate banks and an island. There are 7 bridges linking the different part of the city: in 1735, Euler showed that it was impossible to cross all the bridges once and only once.\n",
    "    </i>\n",
    "We are going to create this graph.\n",
    "</blockquote>\n",
    "\n",
    "* run the following cell to launch the container and create a Neo4J driver"
   ]
  },
  {
   "cell_type": "code",
   "execution_count": 1,
   "metadata": {},
   "outputs": [],
   "source": [
    "# Run this cell \n",
    "\n",
    "import pprint\n",
    "# Importing the class Neo4JForDockerDriver\n",
    "from neo_utils import Neo4JForDockerDriver\n",
    "# Instatiating the class Neo4JForDockerDriver\n",
    "neo4j = Neo4JForDockerDriver()\n",
    "# starting the container\n",
    "neo4j.launch_container()\n",
    "# creating the driver\n",
    "driver = neo4j.create_driver()"
   ]
  },
  {
   "cell_type": "markdown",
   "metadata": {},
   "source": [
    "<center><h3>Node creation</h3></center>\n",
    "<blockquote>\n",
    "To create nodes, the Cypher syntax is as follows: \n",
    "    \n",
    "```cypher\n",
    "CREATE (n)\n",
    "```\n",
    "\n",
    "\n",
    " The brackets represent the nodes. `n` is just a placeholder for the node. You can add some information about the node by adding a json-like string: \n",
    "\n",
    "    \n",
    "```cypher \n",
    "CREATE (n {name: \"name of the node\", attribute1: \"attribute1_value\"})\n",
    "```\n",
    " With Cypher, we can label nodes: for example, a graph representing a family tree, we should label men and women differently. \n",
    "\n",
    "    \n",
    "```cypher\n",
    "CREATE (n:Label {name: \"name of the node\", attribute1: \"attribute1_value\"})\n",
    "```\n",
    "\n",
    " \n",
    " We can also add different super-labels, e.g. more general labels (the principle is similar to super-classes in Oriented Object Programing).\n",
    "```cypher \n",
    "CREATE (n:SuperLabel:Label {name: \"name of the node\", attribute1: \"attribute1_value\"})\n",
    "```\n",
    "\n",
    "</blockquote> \n",
    "\n",
    "\n",
    "\n",
    "* using this syntax, create a node whose name is `\"North\"` and whose label is `Bank`"
   ]
  },
  {
   "cell_type": "code",
   "execution_count": 2,
   "metadata": {},
   "outputs": [],
   "source": [
    "# Insert your code here\n",
    "\n",
    "query = \"\"\"\n",
    "RETURN 'Insert your code in this string'\n",
    "\"\"\"\n",
    "\n",
    "with driver.session() as session:\n",
    "    results = session.run(query)\n"
   ]
  },
  {
   "cell_type": "code",
   "execution_count": 3,
   "metadata": {},
   "outputs": [],
   "source": [
    "# Insert your code here\n",
    "\n",
    "query = \"\"\"\n",
    "CREATE (n:Bank {name: 'North'})\n",
    "\"\"\"\n",
    "\n",
    "with driver.session() as session:\n",
    "    results = session.run(query)\n"
   ]
  },
  {
   "cell_type": "markdown",
   "metadata": {},
   "source": [
    "<blockquote>\n",
    "In <b>Cypher</b>, statements can be distributed over multiple lines. Moreover, you can run multiple transactions at once if they are separated by <b>;</b> if it is specified in the settings of <b>Neo4J</b>. Finally, Cypher is not case-sensitive but for the sake of clarity, we will put Cypher key-words in upper case. \n",
    "</blockquote>\n",
    "\n",
    "* Create two queries to create two nodes with label <code>\"Bank\"</code> and whose names are respectively <code>\"South\"</code> and <code>\"East\"</code>. (here Neo4J is not set to accept multiple statements at once...)"
   ]
  },
  {
   "cell_type": "code",
   "execution_count": 4,
   "metadata": {},
   "outputs": [],
   "source": [
    "# Insert your code here\n",
    "\n",
    "queries = [\n",
    "    \"\"\"RETURN 'Insert your code in this string'\"\"\",\n",
    "    \"\"\"RETURN 'Insert your code in this string'\"\"\"\n",
    "]           \n",
    "\n",
    "with driver.session() as session:\n",
    "    for q in queries: \n",
    "        results = session.run(q)\n"
   ]
  },
  {
   "cell_type": "code",
   "execution_count": 5,
   "metadata": {},
   "outputs": [],
   "source": [
    "# Insert your code here\n",
    "\n",
    "queries = [\n",
    "    \"\"\"CREATE (n:Bank {name: \"South\"});\"\"\",\n",
    "    \"\"\"CREATE (n:Bank {name: \"East\"})\"\"\"\n",
    "]\n",
    "\n",
    "with driver.session() as session:\n",
    "    for q in queries: \n",
    "        results = session.run(q)\n"
   ]
  },
  {
   "cell_type": "markdown",
   "metadata": {},
   "source": [
    "> The last node of our graph is the central island named KneipHof. We are going to give it both the label `Bank` and the label `Island`\n",
    "\n",
    "* create a node with labels `Bank` and `Island` and name `\"Kneiphof\"`"
   ]
  },
  {
   "cell_type": "code",
   "execution_count": null,
   "metadata": {},
   "outputs": [],
   "source": []
  },
  {
   "cell_type": "code",
   "execution_count": 6,
   "metadata": {},
   "outputs": [],
   "source": [
    "# Insert your code here\n",
    "\n",
    "query = \"\"\"\n",
    "RETURN 'Insert your code in this string'\n",
    "\"\"\"\n",
    "\n",
    "with driver.session() as session:\n",
    "    results = session.run(query)\n"
   ]
  },
  {
   "cell_type": "code",
   "execution_count": 7,
   "metadata": {},
   "outputs": [],
   "source": [
    "# Insert your code here\n",
    "\n",
    "query = \"\"\"\n",
    "CREATE (n:Bank:Island {name: 'Kneiphof'})\n",
    "\"\"\"\n",
    "\n",
    "with driver.session() as session:\n",
    "    results = session.run(query)\n"
   ]
  },
  {
   "cell_type": "markdown",
   "metadata": {},
   "source": [
    "<center><h3> Simple queries </h3></center>\n",
    "\n",
    "<blockquote>\n",
    "In the next chapter, we will see how to make complicated queries over a graph with Cypher but we need to see how to make very simple matching queries. The following is the query to return all the nodes of a graph.\n",
    "<br>\n",
    "<br>\n",
    "    \n",
    "```cypher\n",
    "MATCH (n) \n",
    "RETURN n\n",
    "```\n",
    "<br>\n",
    "<br>\n",
    "It is decomposed in two parts: \n",
    "    <ul>\n",
    "        <li>A <code>MATCH</code> part specifying conditions on the nodes to return </li>\n",
    "        <li>A <code>RETURN</code> part specifying what to return\n",
    "    </ul>\n",
    "    \n",
    "</blockquote>\n",
    "\n",
    "* run the following cell to return all the nodes in our graph"
   ]
  },
  {
   "cell_type": "code",
   "execution_count": 8,
   "metadata": {},
   "outputs": [
    {
     "name": "stdout",
     "output_type": "stream",
     "text": [
      "[{'n': <Node id=0 labels={'Bank'} properties={'name': 'North'}>},\n",
      " {'n': <Node id=20 labels={'Bank'} properties={'name': 'South'}>},\n",
      " {'n': <Node id=21 labels={'Bank'} properties={'name': 'East'}>},\n",
      " {'n': <Node id=22 labels={'Bank', 'Island'} properties={'name': 'Kneiphof'}>}]\n"
     ]
    }
   ],
   "source": [
    "# Insert your code here\n",
    "\n",
    "query = \"\"\"\n",
    "MATCH (n) RETURN n\n",
    "\"\"\"\n",
    "\n",
    "with driver.session() as session:\n",
    "    results = session.run(query)\n",
    "    pprint.pprint(results.data())"
   ]
  },
  {
   "cell_type": "markdown",
   "metadata": {},
   "source": [
    "<blockquote>\n",
    "You can see that each node is represented as a dictionary with its own id, its labels and its properties. \n",
    "\n",
    "Neo4J provides a user interface to visualize our graph. We cannot access it here but the same query will return something similar to this: \n",
    "<center>\n",
    "    \n",
    "```cypher \n",
    "MATCH (n) RETURN n \n",
    "```\n",
    "</center>   \n",
    "\n",
    "<center> <img src=\"./Pictures/neo4j_02_01.png\"> </center>\n",
    "\n",
    "If we want to return only a specific property of the nodes, we can specify it in the <code>RETURN</code> statement: \n",
    "\n",
    "```cypher\n",
    "MATCH (n) \n",
    "RETURN n.property\n",
    "```\n",
    "</blockquote>\n",
    "\n",
    "* make a query to return the <code>names</code> of all the nodes"
   ]
  },
  {
   "cell_type": "code",
   "execution_count": 9,
   "metadata": {},
   "outputs": [
    {
     "name": "stdout",
     "output_type": "stream",
     "text": [
      "[{\"'Insert your code in this string'\": 'Insert your code in this string'}]\n"
     ]
    }
   ],
   "source": [
    "# Insert your code here\n",
    "\n",
    "query = \"\"\"\n",
    "RETURN 'Insert your code in this string'\n",
    "\"\"\"\n",
    "\n",
    "with driver.session() as session:\n",
    "    results = session.run(query)\n",
    "    pprint.pprint(results.data())\n"
   ]
  },
  {
   "cell_type": "code",
   "execution_count": 10,
   "metadata": {},
   "outputs": [
    {
     "name": "stdout",
     "output_type": "stream",
     "text": [
      "[{'n.name': 'North'},\n",
      " {'n.name': 'South'},\n",
      " {'n.name': 'East'},\n",
      " {'n.name': 'Kneiphof'}]\n"
     ]
    }
   ],
   "source": [
    "# Insert your code here\n",
    "\n",
    "query = \"\"\"\n",
    "MATCH (n) RETURN n.name\n",
    "\"\"\"\n",
    "\n",
    "with driver.session() as session:\n",
    "    results = session.run(query)\n",
    "    pprint.pprint(results.data())\n"
   ]
  },
  {
   "cell_type": "markdown",
   "metadata": {},
   "source": [
    "<blockquote>\n",
    "To return specifically the ID or the labels of the nodes, we can use the following syntaxes: \n",
    "\n",
    "<br>\n",
    "<br>\n",
    "\n",
    "```cypher \n",
    "MATCH (n) \n",
    "RETURN id(n)\n",
    "```\n",
    "\n",
    "<br>\n",
    "<br>\n",
    "\n",
    "```cypher\n",
    "MATCH(n)\n",
    "RETURN labels(n)\n",
    "```\n",
    "\n",
    "<br>\n",
    "<br>\n",
    "\n",
    "\n",
    "Finally, if we want to put a condition on the nodes to return, we can do it in the <code>MATCH</code> statement: For example, if we want to return all the nodes with <code>property1</code> set to <code>value1</code>, we can do the following: \n",
    "\n",
    "<br>\n",
    "<br>\n",
    "\n",
    "```cypher \n",
    "MATCH (n {property1: 'value1'})\n",
    "RETURN n\n",
    "```\n",
    "\n",
    "<br>\n",
    "<br>\n",
    "\n",
    "There are other ways to do the same thing: for example with a <code>WHERE</code> clause: \n",
    "\n",
    "<br>\n",
    "<br>\n",
    "\n",
    "```cypher \n",
    "MATCH (n)\n",
    "WHERE n.property1 = 'value1'\n",
    "RETURN n\n",
    "```\n",
    "\n",
    "<br>\n",
    "<br>\n",
    "This is all we need for this lesson regarding queries.\n",
    "\n",
    "</blockquote>\n",
    "\n",
    "* Make a query returning the labels of the nodes whose property <code>name</code> is set to <code>'Kneiphof'</code> "
   ]
  },
  {
   "cell_type": "code",
   "execution_count": 11,
   "metadata": {},
   "outputs": [
    {
     "name": "stdout",
     "output_type": "stream",
     "text": [
      "[{\"'Insert your code in this string'\": 'Insert your code in this string'}]\n"
     ]
    }
   ],
   "source": [
    "# Insert your code here\n",
    "\n",
    "query = \"\"\"\n",
    "RETURN 'Insert your code in this string'\n",
    "\"\"\"\n",
    "\n",
    "with driver.session() as session:\n",
    "    results = session.run(query)\n",
    "    pprint.pprint(results.data())\n"
   ]
  },
  {
   "cell_type": "code",
   "execution_count": 12,
   "metadata": {},
   "outputs": [
    {
     "name": "stdout",
     "output_type": "stream",
     "text": [
      "[{'labels(n)': ['Bank', 'Island']}]\n"
     ]
    }
   ],
   "source": [
    "# Insert your code here\n",
    "\n",
    "query = \"\"\"\n",
    "MATCH (n {name: 'Kneiphof'})\n",
    "RETURN labels(n)\n",
    "\"\"\"\n",
    "\n",
    "with driver.session() as session:\n",
    "    results = session.run(query)\n",
    "    pprint.pprint(results.data())\n"
   ]
  },
  {
   "cell_type": "markdown",
   "metadata": {},
   "source": [
    "<center><h3>Relationship creation</h3></center>\n",
    "\n",
    "<blockquote>\n",
    "\n",
    "In Neo4J, relationships are directed: if you want to create an undirected relationship, you need to create two directed relationships. Relationships can have labels and properties. This is useful to make weigthed graphs. You can think of train networks: you may want to link two cities and give this link information about the length of the track, the average running time, the average price, ... \n",
    "\n",
    "To create a relationship between two nodes, we first need to query those nodes and then call a <code>CREATE</code> statement to create the relationship. For example, if we want to create a relationship labeled <code>RELATIONSHIP_1</code> between a node with <code>name</code> set to <code>'name1'</code> and another node with <code>name</code> set to <code>'name2'</code>, we would use the following syntax:  \n",
    "\n",
    "<br>\n",
    "<br>\n",
    "\n",
    "```cypher\n",
    "MATCH (p {name: 'name1'})\n",
    "MATCH (q {name: 'name2'})\n",
    "CREATE (p)-[:RELATIONSHIP_1]->(q)\n",
    "```\n",
    "\n",
    "<br>\n",
    "<br>\n",
    "\n",
    "If we want to create the same relationship in the two directions, we can do it with the same query:\n",
    "    \n",
    "<br>\n",
    "<br>\n",
    "    \n",
    "```cypher\n",
    "MATCH (p {name: 'name1'})\n",
    "MATCH (q {name: 'name2'})\n",
    "CREATE (p)-[:RELATIONSHIP_1]->(q)\n",
    "CREATE (q)-[:RELATIONSHIP_1]->(p)\n",
    "```\n",
    "\n",
    "<br>\n",
    "<br>\n",
    "    \n",
    "\n",
    "If we want to add properties to this relationship, the syntax is similar to the one used when we created nodes: \n",
    "\n",
    "<br>\n",
    "<br>\n",
    "\n",
    "```cypher\n",
    "MATCH (p {name: 'name1'})\n",
    "MATCH (q {name: 'name2'})\n",
    "CREATE (p)-[:RELATIONSHIP_1 {property1: 'value1', property2: 'value2'}]->(q)\n",
    "```\n",
    "\n",
    "<br>\n",
    "<br>\n",
    "\n",
    "Notice that the if several nodes are met with the criteria of the <code>MATCH</code> statements, we will create a relationship for each couple of matches. \n",
    "\n",
    "We will represent the bridges of Königsberg with relationships labeled  <code>BRIDGE</code> and whose name correspond to the first figure of this lesson.\n",
    "</blockquote>\n",
    "\n",
    "* create a query to build an undirected relationship <code>BRIDGE</code> with name <code>'g'</code> between the <code>North</code> and <code>East</code> banks"
   ]
  },
  {
   "cell_type": "code",
   "execution_count": 13,
   "metadata": {},
   "outputs": [],
   "source": [
    "# Insert your code here\n",
    "\n",
    "query = \"\"\"\n",
    "RETURN 'Insert your code in this string'\n",
    "\"\"\"\n",
    "\n",
    "with driver.session() as session:\n",
    "    results = session.run(query)\n"
   ]
  },
  {
   "cell_type": "code",
   "execution_count": 14,
   "metadata": {},
   "outputs": [],
   "source": [
    "# Insert your code here\n",
    "\n",
    "query = \"\"\"\n",
    "MATCH (p {name: 'North'})\n",
    "MATCH (q {name: 'East'})\n",
    "CREATE (p)-[:BRIDGE {name: 'g'}]->(q)\n",
    "CREATE (q)-[:BRIDGE {name: 'g'}]->(p)\n",
    "\"\"\"\n",
    "\n",
    "with driver.session() as session:\n",
    "    results = session.run(query)\n"
   ]
  },
  {
   "cell_type": "markdown",
   "metadata": {},
   "source": [
    "<blockquote>There are two bridges between the island of <code>Kneiphof</code> and the <code>North</code> bank addressed as <code>'c'</code> and <code>'d'</code>.</blockquote>\n",
    "\n",
    "* make a single query to create those bridges"
   ]
  },
  {
   "cell_type": "code",
   "execution_count": 15,
   "metadata": {},
   "outputs": [],
   "source": [
    "# Insert your code here\n",
    "\n",
    "query = \"\"\"\n",
    "RETURN 'Insert your code in this string'\n",
    "\"\"\"\n",
    "\n",
    "with driver.session() as session:\n",
    "    results = session.run(query)\n"
   ]
  },
  {
   "cell_type": "code",
   "execution_count": 16,
   "metadata": {},
   "outputs": [],
   "source": [
    "# Insert your code here\n",
    "\n",
    "query = \"\"\"\n",
    "MATCH (island {name: 'Kneiphof'})\n",
    "MATCH (north_bank {name: 'North'})\n",
    "CREATE (island)-[:BRIDGE {name: 'c'}]->(north_bank)\n",
    "CREATE (island)-[:BRIDGE {name: 'd'}]->(north_bank)\n",
    "CREATE (north_bank)-[:BRIDGE {name: 'c'}]->(island)\n",
    "CREATE (north_bank)-[:BRIDGE {name: 'd'}]->(island)\n",
    "\"\"\"\n",
    "\n",
    "with driver.session() as session:\n",
    "    results = session.run(query)\n"
   ]
  },
  {
   "cell_type": "markdown",
   "metadata": {},
   "source": [
    "<blockquote>As you can see we can create a lot of relationships in a single query: this allows use to avoid making too many <code>MATCH</code> statements. We still need to create some other relationships. </blockquote>\n",
    "\n",
    "* Try making a query to get all the nodes and create all the remaining relationships at once (see the first figure for names)\n"
   ]
  },
  {
   "cell_type": "code",
   "execution_count": 17,
   "metadata": {},
   "outputs": [],
   "source": [
    "# Insert your code here\n",
    "\n",
    "query = \"\"\"\n",
    "RETURN 'Insert your code in this string'\n",
    "\"\"\"\n",
    "\n",
    "with driver.session() as session:\n",
    "    results = session.run(query)\n"
   ]
  },
  {
   "cell_type": "code",
   "execution_count": 18,
   "metadata": {},
   "outputs": [],
   "source": [
    "# Insert your code here\n",
    "\n",
    "query = \"\"\"\n",
    "MATCH (island {name: 'Kneiphof'})\n",
    "MATCH (north_bank {name: 'North'})\n",
    "MATCH (south_bank {name: 'South'})\n",
    "MATCH (east_bank {name: 'East'})\n",
    "// island to south bank\n",
    "CREATE (island)-[:BRIDGE {name: 'a'}]->(south_bank)\n",
    "CREATE (island)-[:BRIDGE {name: 'b'}]->(south_bank)\n",
    "CREATE (south_bank)-[:BRIDGE {name: 'a'}]->(island)\n",
    "CREATE (south_bank)-[:BRIDGE {name: 'b'}]->(island)\n",
    "// island to east bank\n",
    "CREATE (island)-[:BRIDGE {name: 'e'}]->(east_bank)\n",
    "CREATE (east_bank)-[:BRIDGE {name: 'e'}]->(island)\n",
    "//east to south \n",
    "CREATE (east_bank)-[:BRIDGE {name: 'f'}]->(south_bank)\n",
    "CREATE (south_bank)-[:BRIDGE {name: 'f'}]->(east_bank)\n",
    "\"\"\"\n",
    "\n",
    "with driver.session() as session:\n",
    "    results = session.run(query)\n"
   ]
  },
  {
   "cell_type": "markdown",
   "metadata": {},
   "source": [
    "<blockquote>Our graph is finally over. We are going to make a simple query to check that the relationships are effectively created</blockquote>\n",
    "\n",
    "* run the following cell"
   ]
  },
  {
   "cell_type": "code",
   "execution_count": 19,
   "metadata": {},
   "outputs": [
    {
     "name": "stdout",
     "output_type": "stream",
     "text": [
      "[{'Bridge': 'a', 'Start': 'South', 'Stop': 'Kneiphof'},\n",
      " {'Bridge': 'a', 'Start': 'Kneiphof', 'Stop': 'South'},\n",
      " {'Bridge': 'b', 'Start': 'South', 'Stop': 'Kneiphof'},\n",
      " {'Bridge': 'b', 'Start': 'Kneiphof', 'Stop': 'South'},\n",
      " {'Bridge': 'c', 'Start': 'North', 'Stop': 'Kneiphof'},\n",
      " {'Bridge': 'c', 'Start': 'Kneiphof', 'Stop': 'North'},\n",
      " {'Bridge': 'd', 'Start': 'North', 'Stop': 'Kneiphof'},\n",
      " {'Bridge': 'd', 'Start': 'Kneiphof', 'Stop': 'North'},\n",
      " {'Bridge': 'e', 'Start': 'East', 'Stop': 'Kneiphof'},\n",
      " {'Bridge': 'e', 'Start': 'Kneiphof', 'Stop': 'East'},\n",
      " {'Bridge': 'f', 'Start': 'South', 'Stop': 'East'},\n",
      " {'Bridge': 'f', 'Start': 'East', 'Stop': 'South'},\n",
      " {'Bridge': 'g', 'Start': 'North', 'Stop': 'East'},\n",
      " {'Bridge': 'g', 'Start': 'East', 'Stop': 'North'}]\n"
     ]
    }
   ],
   "source": [
    "# Run the following cell\n",
    "\n",
    "query = \"\"\"\n",
    "MATCH (p)-[rel]->(q)\n",
    "RETURN p.name AS Start, rel.name AS Bridge, q.name AS Stop ORDER BY Bridge\"\"\"\n",
    "\n",
    "with driver.session() as session:\n",
    "    results = session.run(query)\n",
    "    pprint.pprint(results.data())\n"
   ]
  },
  {
   "cell_type": "markdown",
   "metadata": {},
   "source": [
    "<blockquote>\n",
    "If we run the query to get all the nodes and visualize the result, we get something similar to this: \n",
    "\n",
    "<br>\n",
    "<br>\n",
    "<center>\n",
    "    \n",
    "```cypher\n",
    "MATCH (n) RETURN n\n",
    "```\n",
    "</center>\n",
    "<br>\n",
    "<br>\n",
    "    \n",
    "<center> <img src=\"./Pictures/neo4j_02_02.png\"> </center>\n",
    "\n",
    "<i>Notice that we have been using the <code>CREATE</code> key-word but we could have used the <code>MERGE</code> key-word: the difference is subtle: <code>MERGE</code> look for the pattern we are trying to create and if it already exists, it will return it as in a <code>RETURN</code> statement. <code>CREATE</code> does not care for this: if the pattern already exists, it is created anyway. \n",
    "\n",
    "</i>\n",
    "Congratulations on building this graph ! Of course this graph is quite small but the principle remains the same when dealing with larger graphs. \n",
    "    \n",
    "We still need to know how to modify this data. \n",
    "</blockquote>\n",
    "\n",
    "<center><h3>Property modification</h3></center>\n",
    "\n",
    "<blockquote>To create properties on existing entities, we can use the <code>SET</code>. The use of <code>SET</code> relies also on the <code>MATCH</code> statement. For example, if we want to create a new property called <code>new_property</code> with value <code>'new_value'</code> on the nodes with <code>property1</code> set to <code>'value1'</code>, we can do: \n",
    "\n",
    "<br>\n",
    "<br>\n",
    "\n",
    "```cypher \n",
    "MATCH (n {property1: 'value1')\n",
    "SET n.new_property = 'new_value'\n",
    "```\n",
    "\n",
    "<br>\n",
    "<br>\n",
    "\n",
    "If the property does not exist, it is created but if it already exists it is modified. The same can be done with a relationship: \n",
    "\n",
    "<br>\n",
    "<br>\n",
    "\n",
    "```cypher \n",
    "MATCH (p {property1: 'value1')\n",
    "MATCH (q {property1: 'value2')\n",
    "MATCH (p)-[rel]->(q)\n",
    "SET rel.new_property = 'new_value'\n",
    "```\n",
    "\n",
    "<br>\n",
    "<br>\n",
    "\n",
    "Or \n",
    "\n",
    "```cypher \n",
    "MATCH ()-[rel {property1: 'value1'}]->()\n",
    "SET rel.new_property = 'new_value'\n",
    "```\n",
    "\n",
    "<br>\n",
    "<br>\n",
    "    \n",
    "<i> Do not worry too much about <code>MATCH</code> statements, we will explore them further in the next lesson</i>\n",
    "    \n",
    "</blockquote>\n",
    "\n",
    "* add a property <code>'famous_places'</code> to the node named <code>'Kneiphof'</code> whose value is a list containing the <code>Cathedral</code> and the <code>Town Hall</code>\n"
   ]
  },
  {
   "cell_type": "code",
   "execution_count": 20,
   "metadata": {},
   "outputs": [],
   "source": [
    "# Insert your code here\n",
    "\n",
    "query = \"\"\"\n",
    "RETURN 'Insert your code in this string'\n",
    "\"\"\"\n",
    "\n",
    "with driver.session() as session:\n",
    "    results = session.run(query)\n"
   ]
  },
  {
   "cell_type": "code",
   "execution_count": 21,
   "metadata": {},
   "outputs": [],
   "source": [
    "# Insert your code here\n",
    "\n",
    "query = \"\"\"\n",
    "MATCH (n {name: 'Kneiphof'})\n",
    "SET n.famous_places = ['Cathedral', 'Town Hall']\n",
    "\"\"\"\n",
    "\n",
    "with driver.session() as session:\n",
    "    results = session.run(query)\n"
   ]
  },
  {
   "cell_type": "markdown",
   "metadata": {},
   "source": [
    "* create a query to return the node named <code>'Kneiphof'</code>"
   ]
  },
  {
   "cell_type": "code",
   "execution_count": 22,
   "metadata": {},
   "outputs": [
    {
     "name": "stdout",
     "output_type": "stream",
     "text": [
      "[{\"'Insert your code in this string'\": 'Insert your code in this string'}]\n"
     ]
    }
   ],
   "source": [
    "# Insert your code here\n",
    "\n",
    "query = \"\"\"\n",
    "RETURN 'Insert your code in this string'\n",
    "\"\"\"\n",
    "\n",
    "with driver.session() as session:\n",
    "    results = session.run(query)\n",
    "    pprint.pprint(results.data())"
   ]
  },
  {
   "cell_type": "code",
   "execution_count": 23,
   "metadata": {},
   "outputs": [
    {
     "name": "stdout",
     "output_type": "stream",
     "text": [
      "[{'n': <Node id=22 labels={'Bank', 'Island'} properties={'name': 'Kneiphof', 'famous_places': ['Cathedral', 'Town Hall']}>}]\n"
     ]
    }
   ],
   "source": [
    "# Insert your code here\n",
    "\n",
    "query = \"\"\"\n",
    "MATCH (n {name: 'Kneiphof'})\n",
    "RETURN n\"\"\"\n",
    "\n",
    "with driver.session() as session:\n",
    "    results = session.run(query)\n",
    "    pprint.pprint(results.data())\n"
   ]
  },
  {
   "cell_type": "markdown",
   "metadata": {},
   "source": [
    "* add a property <code>'tarif'</code> to the bridge <code>'a'</code> with a value of <code>25</code>"
   ]
  },
  {
   "cell_type": "code",
   "execution_count": 24,
   "metadata": {},
   "outputs": [],
   "source": [
    "# Insert your code here\n",
    "\n",
    "query = \"\"\"\n",
    "RETURN 'Insert your code in this string'\n",
    "\"\"\"\n",
    "\n",
    "with driver.session() as session:\n",
    "    results = session.run(query)"
   ]
  },
  {
   "cell_type": "code",
   "execution_count": 25,
   "metadata": {},
   "outputs": [],
   "source": [
    "# Insert your code here\n",
    "\n",
    "query = \"\"\"\n",
    "MATCH ()-[rel { name: 'a'}]->()\n",
    "SET rel.tarif = 25\n",
    "\"\"\"\n",
    "\n",
    "with driver.session() as session:\n",
    "    results = session.run(query)"
   ]
  },
  {
   "cell_type": "markdown",
   "metadata": {},
   "source": [
    "* create a query to get all the informations about the bridge addressed as <code>'a'</code>"
   ]
  },
  {
   "cell_type": "code",
   "execution_count": 26,
   "metadata": {},
   "outputs": [
    {
     "name": "stdout",
     "output_type": "stream",
     "text": [
      "[{\"'Insert your code in this string'\": 'Insert your code in this string'}]\n"
     ]
    }
   ],
   "source": [
    "# Insert your code here\n",
    "\n",
    "query = \"\"\"\n",
    "RETURN 'Insert your code in this string'\n",
    "\"\"\"\n",
    "\n",
    "with driver.session() as session:\n",
    "    results = session.run(query)\n",
    "    pprint.pprint(results.data())"
   ]
  },
  {
   "cell_type": "code",
   "execution_count": 27,
   "metadata": {},
   "outputs": [
    {
     "name": "stdout",
     "output_type": "stream",
     "text": [
      "[{'rel': <Relationship id=24 nodes=(<Node id=22 labels=set() properties={}>, <Node id=20 labels=set() properties={}>) type='BRIDGE' properties={'name': 'a', 'tarif': 25}>},\n",
      " {'rel': <Relationship id=26 nodes=(<Node id=20 labels=set() properties={}>, <Node id=22 labels=set() properties={}>) type='BRIDGE' properties={'name': 'a', 'tarif': 25}>}]\n"
     ]
    }
   ],
   "source": [
    "# Insert your code here\n",
    "\n",
    "query = \"\"\"\n",
    "MATCH ()-[rel { name: 'a'}]->()\n",
    "RETURN rel\n",
    "\"\"\"\n",
    "\n",
    "with driver.session() as session:\n",
    "    results = session.run(query)\n",
    "    pprint.pprint(results.data())"
   ]
  },
  {
   "cell_type": "markdown",
   "metadata": {},
   "source": [
    "<blockquote>\n",
    "Finally, to master all the posibilities of graph creation, we need to see how to delete nodes or relationships.\n",
    "</blockquote>\n",
    "\n",
    "<center><h3>Deleting nodes and relationships</h3></center>\n",
    "\n",
    "<blockquote>\n",
    "Once again, the principle is the same as before: \n",
    "<ul>\n",
    "    <li>a <code>MATCH</code> statement </li>\n",
    "    <li>a <code>DELETE</code> statement </li>\n",
    "</ul>\n",
    "     \n",
    "For example, to delete all nodes with property <code>property1</code> set to <code>'value1'</code>, we can do the following \n",
    "\n",
    "<br>\n",
    "<br>\n",
    "\n",
    "```cypher \n",
    "MATCH (n {property1: 'value1'})\n",
    "DELETE n\n",
    "```\n",
    "\n",
    "<br>\n",
    "<br>\n",
    "\n",
    "The issue with this syntax, is that if any relationship exists with this node, Neo4J will throw an error. There are two ways to overcome this issue: \n",
    "<ul> \n",
    "    <li> Deleting the relationships of this particular node before deleting the node itself. </li>\n",
    "    <li> Using the clause <code>DETACH DELETE</code> \n",
    "</ul>\n",
    "\n",
    "For the first solution, we can do the following:\n",
    "\n",
    "<br>\n",
    "<br>\n",
    "\n",
    "```cypher\n",
    "MATCH (n {property1: 'value1'})\n",
    "MATCH (n)-[rel1]->()\n",
    "MATCH ()-[rel2]->(n)\n",
    "DELETE rel1, rel2\n",
    "```\n",
    "<br>\n",
    "<br>\n",
    "\n",
    "And then the normal delete. \n",
    "<br>\n",
    "For the second solution, we can do the following: \n",
    "\n",
    "<br>\n",
    "<br>\n",
    "\n",
    "```cypher\n",
    "MATCH (n {property1: 'value1'})\n",
    "DETACH DELETE (n)\n",
    "```\n",
    "\n",
    "</blockquote>\n",
    "\n",
    "* create a query to delete the node named <code>'Kneiphof'</code>"
   ]
  },
  {
   "cell_type": "code",
   "execution_count": 28,
   "metadata": {},
   "outputs": [],
   "source": [
    "# Insert your code here\n",
    "\n",
    "query = \"\"\"\n",
    "RETURN 'Insert your code in this string'\n",
    "\"\"\"\n",
    "\n",
    "with driver.session() as session:\n",
    "    results = session.run(query)"
   ]
  },
  {
   "cell_type": "code",
   "execution_count": 29,
   "metadata": {},
   "outputs": [],
   "source": [
    "# Insert your code here\n",
    "\n",
    "query = \"\"\"\n",
    "MATCH (n {name: 'Kneiphof'})\n",
    "DETACH DELETE n\n",
    "\"\"\"\n",
    "\n",
    "with driver.session() as session:\n",
    "    results = session.run(query)"
   ]
  },
  {
   "cell_type": "markdown",
   "metadata": {},
   "source": [
    "<blockquote> \n",
    "    In this lesson, we have seen some of the main aspects of the creation, modification and deletion of nodes, relationships and properties. Syntaxes are almost always the same. We find the data through a <code>MATCH</code> statement and change the data with a <code>CREATE</code>, <code>SET</code> or <code>DELETE</code>.\n",
    "    <br>\n",
    "    We have not been very exhaustive on the possibilities of the <code>MATCH</code> clauses but we will see every aspect of it in the next chapter. \n",
    "</blockquote>"
   ]
  }
 ],
 "metadata": {
  "kernelspec": {
   "display_name": "Python 3",
   "language": "python",
   "name": "python3"
  },
  "language_info": {
   "codemirror_mode": {
    "name": "ipython",
    "version": 3
   },
   "file_extension": ".py",
   "mimetype": "text/x-python",
   "name": "python",
   "nbconvert_exporter": "python",
   "pygments_lexer": "ipython3",
   "version": "3.6.9"
  }
 },
 "nbformat": 4,
 "nbformat_minor": 4
}
