{
 "cells": [
  {
   "cell_type": "code",
   "execution_count": 20,
   "metadata": {},
   "outputs": [],
   "source": [
    "from neo4j import GraphDatabase\n",
    "\n",
    "uri = \"bolt://localhost:7687\"\n",
    "driver = GraphDatabase.driver(uri, auth=(\"neo4j\",\"password\"))"
   ]
  },
  {
   "cell_type": "code",
   "execution_count": 24,
   "metadata": {},
   "outputs": [],
   "source": [
    "def print_friends_of(tx, name):\n",
    "    for record in tx.run(\"MATCH (a:Person)-[:LIKES]-(f) \"\n",
    "                         \"WHERE a.name = {name} \"\n",
    "                         \"RETURN f.name\", name=name):\n",
    "        print(record[\"f.name\"])\n",
    "\n",
    "with driver.session() as session:\n",
    "    session.read_transaction(print_friends_of, \"Ian\")"
   ]
  },
  {
   "cell_type": "code",
   "execution_count": 35,
   "metadata": {},
   "outputs": [],
   "source": [
    "with driver.session() as session:\n",
    "    a = session.run(\"\"\"\n",
    "        MATCH (p:Person) RETURN p\"\"\")"
   ]
  },
  {
   "cell_type": "code",
   "execution_count": 36,
   "metadata": {},
   "outputs": [
    {
     "data": {
      "text/plain": [
       "[{'p': <Node id=0 labels={'Person'} properties={'name': 'Emil', 'from': 'Sweden', 'klout': 99}>},\n",
       " {'p': <Node id=1 labels={'Person'} properties={}>},\n",
       " {'p': <Node id=20 labels={'Person'} properties={'name': 'Johan', 'learn': 'surfing', 'from': 'Sweden'}>},\n",
       " {'p': <Node id=21 labels={'Person'} properties={'name': 'Ian', 'title': 'author', 'from': 'England'}>},\n",
       " {'p': <Node id=22 labels={'Person'} properties={'name': 'Rik', 'from': 'Belgium', 'pet': 'Orval'}>},\n",
       " {'p': <Node id=23 labels={'Person'} properties={'name': 'Allison', 'from': 'California', 'hobby': 'surfing'}>}]"
      ]
     },
     "execution_count": 36,
     "metadata": {},
     "output_type": "execute_result"
    }
   ],
   "source": [
    "a.data()"
   ]
  },
  {
   "cell_type": "code",
   "execution_count": null,
   "metadata": {},
   "outputs": [],
   "source": []
  }
 ],
 "metadata": {
  "kernelspec": {
   "display_name": "Python 3",
   "language": "python",
   "name": "python3"
  },
  "language_info": {
   "codemirror_mode": {
    "name": "ipython",
    "version": 3
   },
   "file_extension": ".py",
   "mimetype": "text/x-python",
   "name": "python",
   "nbconvert_exporter": "python",
   "pygments_lexer": "ipython3",
   "version": "3.6.9"
  }
 },
 "nbformat": 4,
 "nbformat_minor": 4
}
