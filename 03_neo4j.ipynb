{
 "cells": [
  {
   "cell_type": "markdown",
   "metadata": {},
   "source": [
    "<img src=\"https://datascientest.fr/train/assets/logo_datascientest.png\" style=\"height:150px\">\n",
    "\n",
    "<hr style=\"border-width:2px;border-color:#75DFC1\">\n",
    "<center><h1>Neo4J</h1></center>\n",
    "<center><h2>Basics of Cypher</h2></center>\n",
    "<hr style=\"border-width:2px;border-color:#75DFC1\">\n",
    "\n",
    "\n",
    "<blockquote>\n",
    "<center><h3>Our dataset</h3></center>\n",
    "\n",
    "\n",
    "In this exercise, we will play with a dataset containing informations about <a href=\"https://en.wikipedia.org/wiki/Marvel_Cinematic_Universe\">Marvel Cinematic Universe</a> Movies. It is derived from the <a href=\"https://www.imdb.com/interfaces/\">IMDB datasets</a>. The dataset contains <code>Actors</code>, <code>Characters</code> and <code>Movies</code>. <code>Actors</code> can <code>PLAY</code> a <code>Character</code>. <code>Characters</code> can <code>APPEAR_IN</code> in a <code>Movie</code>.  An <code>Actor</code> is also a <code>Person</code>. \n",
    "\n",
    "<code>Actor</code> can have features such as a <code>name</code>, <code>birth_year</code>, <code>death_year</code>, <code>professions</code>, ... A <code>Character</code> has only one attribute: its <code>name</code>. <code>Movie</code> can have a <code>title</code>, a <code>year</code>, a <code>runtime</code> and a list of <code>genres</code>.\n",
    "\n",
    "<center><img src=\"./demo_mcu.png\"></center>\n",
    "    \n",
    "    \n",
    "<div class=\"alert alert-info\"><i class='fa fa-exclamation-circle'></i> &emsp; Notice that we use <code>UPPER CASE</code> and <code>underscores</code> for relationships labels and <code>Capitalized</code> for node labels. It is just a convention.</div>\n",
    "    \n",
    "\n",
    "In this lesson, we will learn how to make complicated queries and also how to load data from a <code>csv</code> file.\n",
    "    \n",
    "</blockquote>\n",
    "\n",
    "* run the following cell to launch the container with the dataset already loaded"
   ]
  },
  {
   "cell_type": "code",
   "execution_count": 1,
   "metadata": {},
   "outputs": [],
   "source": [
    "from neo4j import GraphDatabase"
   ]
  },
  {
   "cell_type": "code",
   "execution_count": 4,
   "metadata": {},
   "outputs": [],
   "source": [
    "import pprint\n",
    "driver = GraphDatabase.driver('bolt://localhost:7687', auth=('neo4j', 'password'))"
   ]
  },
  {
   "cell_type": "markdown",
   "metadata": {},
   "source": [
    "<center><h3>Querying nodes</h3></center>\n",
    "\n",
    "<blockquote>\n",
    "\n",
    "In the previous lecture, we have seen how to make simple queries: \n",
    "    <ul>\n",
    "        <li>a <code>MATCH</code> statement</li>\n",
    "        <li>a <code>RETURN</code> statement</li>\n",
    "    </ul>\n",
    "\n",
    "    \n",
    "For example, to make a query returning every node with a property <code>property1</code> set to value <code>\"value1\"</code>, you can use the following syntaxes: \n",
    "    \n",
    "<br>\n",
    "<br>    \n",
    "    \n",
    "```cypher\n",
    "    MATCH (n {property1: \"value1\"})\n",
    "    RETURN n\n",
    "```\n",
    "\n",
    "<br>\n",
    "<br> \n",
    "    \n",
    "```cypher\n",
    "    MATCH (n)\n",
    "    WHERE n.property1 = \"value1\"\n",
    "    RETURN n\n",
    "``` \n",
    "    \n",
    "<br>\n",
    "<br>\n",
    "    \n",
    "To add conditions on a specific label, for example, <code>Label1</code>, we can use the following:\n",
    "    \n",
    "<br>\n",
    "<br>\n",
    "\n",
    "```cypher\n",
    "MATCH (n:Label1)\n",
    "RETURN n\n",
    "```\n",
    "    \n",
    "<br>\n",
    "<br>\n",
    "    \n",
    "</blockquote>\n",
    "\n",
    "\n",
    "* Make a query to return all the <code>Person</code> nodes with property <code>birth_year</code> set to <code>1975</code>"
   ]
  },
  {
   "cell_type": "code",
   "execution_count": 5,
   "metadata": {},
   "outputs": [
    {
     "name": "stdout",
     "output_type": "stream",
     "text": [
      "[{\"'Insert your code in this string'\": 'Insert your code in this string'}]\n"
     ]
    }
   ],
   "source": [
    "# Insert your code here\n",
    "\n",
    "query = \"\"\"\n",
    "RETURN 'Insert your code in this string'\n",
    "\"\"\"\n",
    "\n",
    "with driver.session() as session:\n",
    "    results = session.run(query)\n",
    "    pprint.pprint(results.data())"
   ]
  },
  {
   "cell_type": "code",
   "execution_count": 6,
   "metadata": {},
   "outputs": [
    {
     "name": "stdout",
     "output_type": "stream",
     "text": [
      "[{'n': <Node id=480 labels={'Person'} properties={'profession': ['producer', 'writer', 'miscellaneous'], 'name': 'Drew Pearce', 'id': 'nm1510800', 'birth_year': 1975}>},\n",
      " {'n': <Node id=485 labels={'Person'} properties={'profession': ['writer', 'actor', 'producer'], 'name': 'C. Robert Cargill', 'id': 'nm1803036', 'birth_year': 1975}>},\n",
      " {'n': <Node id=834 labels={'Person'} properties={'profession': ['producer', 'actor', 'director'], 'name': 'Taika Waititi', 'id': 'nm0169806', 'birth_year': 1975}>},\n",
      " {'n': <Node id=835 labels={'Actor', 'Person'} properties={'profession': ['actor', 'producer', 'soundtrack'], 'name': 'Bradley Cooper', 'id': 'nm0177896', 'birth_year': 1975}>}]\n"
     ]
    }
   ],
   "source": [
    "# Insert your code here\n",
    "\n",
    "query = \"\"\"\n",
    "MATCH (n:Person {birth_year: 1975})\n",
    "RETURN n\n",
    "\"\"\"\n",
    "\n",
    "with driver.session() as session:\n",
    "    results = session.run(query)\n",
    "    pprint.pprint(results.data())\n"
   ]
  },
  {
   "cell_type": "markdown",
   "metadata": {},
   "source": [
    "<blockquote>\n",
    "To return only a partial information, we can use the following syntax. \n",
    "\n",
    "<br>\n",
    "<br>\n",
    "\n",
    "```cypher \n",
    "MATCH (n)\n",
    "RETURN n.attribute\n",
    "```\n",
    "\n",
    "<br>\n",
    "<br>\n",
    "\n",
    "Some special attributes can be accessed through specific keywords: for example, to access le <code>ID</code> of the node or its <code>labels</code> we can use the <code>id</code> and <code>labels</code> functions.\n",
    "\n",
    "<br>\n",
    "<br>\n",
    "\n",
    "```cypher\n",
    "MATCH (n)\n",
    "RETURN labels(n), id(n)\n",
    "```\n",
    "    \n",
    "<br>\n",
    "<br>\n",
    "    \n",
    "</blockquote>\n",
    "\n",
    "* Write a query to return the <code>year</code> attribute of nodes with label <code>Movie</code> and its <code>id </code>"
   ]
  },
  {
   "cell_type": "code",
   "execution_count": 7,
   "metadata": {},
   "outputs": [
    {
     "name": "stdout",
     "output_type": "stream",
     "text": [
      "[{\"'Insert your code in this string'\": 'Insert your code in this string'}]\n"
     ]
    }
   ],
   "source": [
    "# Insert your code here\n",
    "\n",
    "query = \"\"\"\n",
    "RETURN 'Insert your code in this string'\n",
    "\"\"\"\n",
    "\n",
    "with driver.session() as session:\n",
    "    results = session.run(query)\n",
    "    pprint.pprint(results.data())"
   ]
  },
  {
   "cell_type": "code",
   "execution_count": 8,
   "metadata": {},
   "outputs": [
    {
     "name": "stdout",
     "output_type": "stream",
     "text": [
      "[{'id(m)': 513, 'm.year': 2008},\n",
      " {'id(m)': 514, 'm.year': 2011},\n",
      " {'id(m)': 515, 'm.year': 2015},\n",
      " {'id(m)': 516, 'm.year': 2008},\n",
      " {'id(m)': 517, 'm.year': 2011},\n",
      " {'id(m)': 518, 'm.year': 2012},\n",
      " {'id(m)': 519, 'm.year': 2016},\n",
      " {'id(m)': 520, 'm.year': 2010},\n",
      " {'id(m)': 521, 'm.year': 2013},\n",
      " {'id(m)': 533, 'm.year': 2018},\n",
      " {'id(m)': 534, 'm.year': 2014},\n",
      " {'id(m)': 535, 'm.year': 2013},\n",
      " {'id(m)': 536, 'm.year': 2014},\n",
      " {'id(m)': 537, 'm.year': 2017},\n",
      " {'id(m)': 538, 'm.year': 2015},\n",
      " {'id(m)': 539, 'm.year': 2013},\n",
      " {'id(m)': 540, 'm.year': 2016},\n",
      " {'id(m)': 541, 'm.year': 2017},\n",
      " {'id(m)': 542, 'm.year': 2017},\n",
      " {'id(m)': 543, 'm.year': 2019},\n",
      " {'id(m)': 544, 'm.year': 2018},\n",
      " {'id(m)': 545, 'm.year': 2019},\n",
      " {'id(m)': 546, 'm.year': 2018}]\n"
     ]
    }
   ],
   "source": [
    "# Insert your code here\n",
    "\n",
    "query = \"\"\"\n",
    "MATCH (m:Movie)\n",
    "RETURN m.year, id(m)\n",
    "\"\"\"\n",
    "\n",
    "with driver.session() as session:\n",
    "    results = session.run(query)\n",
    "    pprint.pprint(results.data())\n"
   ]
  },
  {
   "cell_type": "markdown",
   "metadata": {},
   "source": [
    "<blockquote>\n",
    "Note that you can alias the results of your queries using the keyword <code>AS</code> as follows: \n",
    "\n",
    "<br>\n",
    "<br>\n",
    "\n",
    "```cypher\n",
    "MATCH (n)\n",
    "RETURN n.attribute AS my_attribute\n",
    "```\n",
    "</blockquote>\n",
    "\n",
    "* rewrite the previous query to alias the name of the attributes as <code>id</code> and <code>start_year</code>"
   ]
  },
  {
   "cell_type": "code",
   "execution_count": 9,
   "metadata": {},
   "outputs": [
    {
     "name": "stdout",
     "output_type": "stream",
     "text": [
      "[{\"'Insert your code in this string'\": 'Insert your code in this string'}]\n"
     ]
    }
   ],
   "source": [
    "# Insert your code here\n",
    "\n",
    "query = \"\"\"\n",
    "RETURN 'Insert your code in this string'\n",
    "\"\"\"\n",
    "\n",
    "with driver.session() as session:\n",
    "    results = session.run(query)\n",
    "    pprint.pprint(results.data())"
   ]
  },
  {
   "cell_type": "code",
   "execution_count": 10,
   "metadata": {},
   "outputs": [
    {
     "name": "stdout",
     "output_type": "stream",
     "text": [
      "[{'id': 513, 'start_year': 2008},\n",
      " {'id': 514, 'start_year': 2011},\n",
      " {'id': 515, 'start_year': 2015},\n",
      " {'id': 516, 'start_year': 2008},\n",
      " {'id': 517, 'start_year': 2011},\n",
      " {'id': 518, 'start_year': 2012},\n",
      " {'id': 519, 'start_year': 2016},\n",
      " {'id': 520, 'start_year': 2010},\n",
      " {'id': 521, 'start_year': 2013},\n",
      " {'id': 533, 'start_year': 2018},\n",
      " {'id': 534, 'start_year': 2014},\n",
      " {'id': 535, 'start_year': 2013},\n",
      " {'id': 536, 'start_year': 2014},\n",
      " {'id': 537, 'start_year': 2017},\n",
      " {'id': 538, 'start_year': 2015},\n",
      " {'id': 539, 'start_year': 2013},\n",
      " {'id': 540, 'start_year': 2016},\n",
      " {'id': 541, 'start_year': 2017},\n",
      " {'id': 542, 'start_year': 2017},\n",
      " {'id': 543, 'start_year': 2019},\n",
      " {'id': 544, 'start_year': 2018},\n",
      " {'id': 545, 'start_year': 2019},\n",
      " {'id': 546, 'start_year': 2018}]\n"
     ]
    }
   ],
   "source": [
    "# Insert your code here\n",
    "\n",
    "query = \"\"\"\n",
    "MATCH (m:Movie)\n",
    "RETURN m.year AS start_year, id(m) AS id\n",
    "\"\"\"\n",
    "\n",
    "with driver.session() as session:\n",
    "    results = session.run(query)\n",
    "    pprint.pprint(results.data())\n"
   ]
  },
  {
   "cell_type": "markdown",
   "metadata": {},
   "source": [
    "<center><h3>Advanced conditions</h3></center>\n",
    "\n",
    "\n",
    "<blockquote>\n",
    "<h4>Mathematical operators</h4>\n",
    "Cypher has the classical mathematical operators: \n",
    "<ul>\n",
    "    <li><code>&#x2329;&#x232A;</code> is used to mean <i>different from</i></li>\n",
    "    <li><code>&#x2329;</code> and <code>&#x232A;</code> are used for strict comparison </li>\n",
    "    <li><code>&#x2329;=</code> and <code>&#x232A;=</code> are used for comparison </li>\n",
    "</ul>\n",
    "\n",
    "<h4>Logical operators</h4>\n",
    "\n",
    "We can combine multiple conditions using <code>OR</code>, <code>AND</code>, <code>XOR</code>, <code>NOT</code>...\n",
    "\n",
    "For example, to get the ids of the nodes that have <code>attribute1</code> different from <code>value1</code> and <code>attribute2</code> strictly greater than <code>value2</code>, we can do \n",
    "\n",
    "<br>\n",
    "<br>\n",
    "\n",
    "```cypher\n",
    "MATCH (n) \n",
    "WHERE n.attribute1 <> value1\n",
    "AND n.attribute2 > value2 \n",
    "RETURN id(n) AS id\n",
    "```\n",
    "\n",
    "<br>\n",
    "<br>\n",
    "\n",
    "    \n",
    "To check that a value belongs to a list of values, you can use the <code>IN</code> keyword: \n",
    "    \n",
    "<br>\n",
    "<br>\n",
    "    \n",
    "```cypher\n",
    "MATCH (n)\n",
    "WHERE n.attribute1 IN ['value1', 'value2']\n",
    "RETURN n\n",
    "```\n",
    "    \n",
    "<br>\n",
    "<br>\n",
    "\n",
    "<h4>String operators</h4>\n",
    "    \n",
    "We can also match character arrays to predefined substring: \n",
    "<ul>\n",
    "    <li><code>STARTS WITH \"substring\"</code> checks if the string starts with a given substring</li>\n",
    "    <li><code>ENDS WITH \"substring\"</code> checks if the string ends with a given substring</li>\n",
    "    <li><code>CONTAINS \"substring\"</code> checks if the string contains a given substring</li>\n",
    "    <li><code>~= \"regular expression\"</code> checks if the string matches a given regular expression</li>\n",
    "</ul>\n",
    "    \n",
    "For example, to get all the nodes whose attribute <code>attribute1</code> starts with <code>\"string_start\"</code>, we can use the following syntax: \n",
    "    \n",
    "<br>\n",
    "<br>\n",
    "    \n",
    "```cypher\n",
    "MATCH (n) \n",
    "WHERE n.attribute1 STARTS WITH \"string_start\"\n",
    "RETURN n\n",
    "```\n",
    "\n",
    "<br>\n",
    "<br>\n",
    "\n",
    "</blockquote>\n",
    "\n",
    "* write a query to get <code>Actor</code> nodes with attribute <code>name</code> containing <code>\"Robert\"</code>"
   ]
  },
  {
   "cell_type": "code",
   "execution_count": 11,
   "metadata": {},
   "outputs": [
    {
     "name": "stdout",
     "output_type": "stream",
     "text": [
      "[{\"'Insert your code in this string'\": 'Insert your code in this string'}]\n"
     ]
    }
   ],
   "source": [
    "# Insert your code here\n",
    "\n",
    "query = \"\"\"\n",
    "RETURN 'Insert your code in this string'\n",
    "\"\"\"\n",
    "\n",
    "with driver.session() as session:\n",
    "    results = session.run(query)\n",
    "    pprint.pprint(results.data())"
   ]
  },
  {
   "cell_type": "code",
   "execution_count": 12,
   "metadata": {},
   "outputs": [
    {
     "name": "stdout",
     "output_type": "stream",
     "text": [
      "[{'a': <Node id=816 labels={'Actor', 'Person'} properties={'profession': ['actor', 'producer', 'soundtrack'], 'name': 'Robert Downey Jr.', 'id': 'nm0000375', 'birth_year': 1965}>},\n",
      " {'a': <Node id=820 labels={'Actor', 'Person'} properties={'profession': ['producer', 'actor', 'director'], 'name': 'Robert Redford', 'id': 'nm0000602', 'birth_year': 1936}>}]\n"
     ]
    }
   ],
   "source": [
    "# Insert your code here\n",
    "\n",
    "query = \"\"\"\n",
    "MATCH (a:Actor)\n",
    "WHERE a.name CONTAINS \"Robert\"\n",
    "RETURN a\n",
    "\"\"\"\n",
    "\n",
    "with driver.session() as session:\n",
    "    results = session.run(query)\n",
    "    pprint.pprint(results.data())\n"
   ]
  },
  {
   "cell_type": "markdown",
   "metadata": {},
   "source": [
    "<center><h3>Querying relationships</h3></center>\n",
    "\n",
    "<blockquote>\n",
    "We can also query relationships with the same principle: relationships are represented by the following syntax: \n",
    "<ul>\n",
    "    <li><code>()-[relationship]-()</code> if the direction has no importance</li>\n",
    "    <li><code>()-[relationship]->()</code> if the direction is important</li>\n",
    "</ul>\n",
    "\n",
    "<i>If nodes are not important to this query, we do not need to name them but they still have to be represented by <code>()</code>.</i>\n",
    "\n",
    "We have seen that relationships can also have labels: the syntax is similar as with nodes: \n",
    "\n",
    "\n",
    "<br>\n",
    "<br>\n",
    "\n",
    "```cypher \n",
    "MATCH ()-[rel:RELATIONSHIP_LABEL]-()\n",
    "RETURN rel\n",
    "```\n",
    "    \n",
    "<br>\n",
    "<br>\n",
    "    \n",
    "</blockquote>\n",
    "\n",
    "* write a query to return all the relationships corresponding to the label <code>\"PLAY\"</code>. Limit the first results to the first 10 using <code>LIMIT 10</code> after the <code>RETURN</code> statement."
   ]
  },
  {
   "cell_type": "code",
   "execution_count": 13,
   "metadata": {},
   "outputs": [
    {
     "name": "stdout",
     "output_type": "stream",
     "text": [
      "[{\"'Insert your code in this string'\": 'Insert your code in this string'}]\n"
     ]
    }
   ],
   "source": [
    "# Insert your code here\n",
    "\n",
    "query = \"\"\"\n",
    "RETURN 'Insert your code in this string'\n",
    "\"\"\"\n",
    "\n",
    "with driver.session() as session:\n",
    "    results = session.run(query)\n",
    "    pprint.pprint(results.data())"
   ]
  },
  {
   "cell_type": "code",
   "execution_count": 14,
   "metadata": {},
   "outputs": [
    {
     "name": "stdout",
     "output_type": "stream",
     "text": [
      "[{'rel': <Relationship id=34641 nodes=(<Node id=169 labels=set() properties={}>, <Node id=782 labels=set() properties={}>) type='PLAY' properties={}>},\n",
      " {'rel': <Relationship id=34667 nodes=(<Node id=171 labels=set() properties={}>, <Node id=795 labels=set() properties={}>) type='PLAY' properties={}>},\n",
      " {'rel': <Relationship id=34622 nodes=(<Node id=171 labels=set() properties={}>, <Node id=764 labels=set() properties={}>) type='PLAY' properties={}>},\n",
      " {'rel': <Relationship id=34655 nodes=(<Node id=175 labels=set() properties={}>, <Node id=789 labels=set() properties={}>) type='PLAY' properties={}>},\n",
      " {'rel': <Relationship id=34607 nodes=(<Node id=175 labels=set() properties={}>, <Node id=750 labels=set() properties={}>) type='PLAY' properties={}>},\n",
      " {'rel': <Relationship id=34645 nodes=(<Node id=177 labels=set() properties={}>, <Node id=786 labels=set() properties={}>) type='PLAY' properties={}>},\n",
      " {'rel': <Relationship id=34293 nodes=(<Node id=177 labels=set() properties={}>, <Node id=530 labels=set() properties={}>) type='PLAY' properties={}>},\n",
      " {'rel': <Relationship id=34629 nodes=(<Node id=178 labels=set() properties={}>, <Node id=740 labels=set() properties={}>) type='PLAY' properties={}>},\n",
      " {'rel': <Relationship id=34665 nodes=(<Node id=178 labels=set() properties={}>, <Node id=793 labels=set() properties={}>) type='PLAY' properties={}>},\n",
      " {'rel': <Relationship id=34625 nodes=(<Node id=181 labels=set() properties={}>, <Node id=767 labels=set() properties={}>) type='PLAY' properties={}>}]\n"
     ]
    }
   ],
   "source": [
    "# Insert your code here\n",
    "\n",
    "query = \"\"\"\n",
    "MATCH ()-[rel:PLAY]-()\n",
    "RETURN rel LIMIT 10\n",
    "\"\"\"\n",
    "\n",
    "with driver.session() as session:\n",
    "    results = session.run(query)\n",
    "    pprint.pprint(results.data())\n"
   ]
  },
  {
   "cell_type": "markdown",
   "metadata": {},
   "source": [
    "<blockquote>\n",
    "\n",
    "We can access the attributes of the relationships in the same way used with nodes, add conditions, ...\n",
    "\n",
    "As for the nodes, we can access special attributes thanks to special functions:\n",
    "<ul>\n",
    "    <li><code>startNode</code> returns the starting node of the relationship</li>\n",
    "    <li><code>endNode</code> returns the ending node of the relationship</li>\n",
    "    <li><code>type</code> returns the label of the relationship</li>\n",
    "    <li><code>id</code> returns the id of the relationship</li>\n",
    "</ul>\n",
    "</blockquote>\n",
    "\n",
    "* make a query returning the nodes of the relationships and the type of the relationships. Limit the results to the first 10 using <code>LIMIT 10</code> after the return statement"
   ]
  },
  {
   "cell_type": "code",
   "execution_count": 15,
   "metadata": {},
   "outputs": [
    {
     "name": "stdout",
     "output_type": "stream",
     "text": [
      "[{\"'Insert your code in this string'\": 'Insert your code in this string'}]\n"
     ]
    }
   ],
   "source": [
    "# Insert your code here\n",
    "\n",
    "query = \"\"\"\n",
    "RETURN 'Insert your code in this string'\n",
    "\"\"\"\n",
    "\n",
    "with driver.session() as session:\n",
    "    results = session.run(query)\n",
    "    pprint.pprint(results.data())"
   ]
  },
  {
   "cell_type": "code",
   "execution_count": 16,
   "metadata": {},
   "outputs": [
    {
     "name": "stdout",
     "output_type": "stream",
     "text": [
      "[{'endNode(rel)': <Node id=782 labels={'Character'} properties={'name': 'Luis'}>,\n",
      "  'startNode(rel)': <Node id=169 labels={'Actor', 'Person'} properties={'profession': ['actor', 'producer'], 'name': 'Michael Peña', 'id': 'nm0671567', 'birth_year': 1976}>,\n",
      "  'type(rel)': 'PLAY'},\n",
      " {'endNode(rel)': <Node id=795 labels={'Character'} properties={'name': 'Star-Lord'}>,\n",
      "  'startNode(rel)': <Node id=171 labels={'Actor', 'Person'} properties={'profession': ['actor', 'soundtrack', 'producer'], 'name': 'Chris Pratt', 'id': 'nm0695435', 'birth_year': 1979}>,\n",
      "  'type(rel)': 'PLAY'},\n",
      " {'endNode(rel)': <Node id=764 labels={'Character'} properties={'name': 'Peter Quill'}>,\n",
      "  'startNode(rel)': <Node id=171 labels={'Actor', 'Person'} properties={'profession': ['actor', 'soundtrack', 'producer'], 'name': 'Chris Pratt', 'id': 'nm0695435', 'birth_year': 1979}>,\n",
      "  'type(rel)': 'PLAY'},\n",
      " {'endNode(rel)': <Node id=789 labels={'Character'} properties={'name': 'Hawkeye'}>,\n",
      "  'startNode(rel)': <Node id=175 labels={'Actor', 'Person'} properties={'profession': ['actor', 'producer', 'soundtrack'], 'name': 'Jeremy Renner', 'id': 'nm0719637', 'birth_year': 1971}>,\n",
      "  'type(rel)': 'PLAY'},\n",
      " {'endNode(rel)': <Node id=750 labels={'Character'} properties={'name': 'Clint Barton'}>,\n",
      "  'startNode(rel)': <Node id=175 labels={'Actor', 'Person'} properties={'profession': ['actor', 'producer', 'soundtrack'], 'name': 'Jeremy Renner', 'id': 'nm0719637', 'birth_year': 1971}>,\n",
      "  'type(rel)': 'PLAY'},\n",
      " {'endNode(rel)': <Node id=786 labels={'Character'} properties={'name': 'Ant-Man'}>,\n",
      "  'startNode(rel)': <Node id=177 labels={'Actor', 'Person'} properties={'profession': ['actor', 'writer', 'producer'], 'name': 'Paul Rudd', 'id': 'nm0748620', 'birth_year': 1969}>,\n",
      "  'type(rel)': 'PLAY'},\n",
      " {'endNode(rel)': <Node id=530 labels={'Character'} properties={'name': 'Scott Lang'}>,\n",
      "  'startNode(rel)': <Node id=177 labels={'Actor', 'Person'} properties={'profession': ['actor', 'writer', 'producer'], 'name': 'Paul Rudd', 'id': 'nm0748620', 'birth_year': 1969}>,\n",
      "  'type(rel)': 'PLAY'},\n",
      " {'endNode(rel)': <Node id=740 labels={'Character'} properties={'name': 'Bruce Banner'}>,\n",
      "  'startNode(rel)': <Node id=178 labels={'Actor', 'Person'} properties={'profession': ['actor', 'producer', 'director'], 'name': 'Mark Ruffalo', 'id': 'nm0749263', 'birth_year': 1967}>,\n",
      "  'type(rel)': 'PLAY'},\n",
      " {'endNode(rel)': <Node id=793 labels={'Character'} properties={'name': 'Hulk'}>,\n",
      "  'startNode(rel)': <Node id=178 labels={'Actor', 'Person'} properties={'profession': ['actor', 'producer', 'director'], 'name': 'Mark Ruffalo', 'id': 'nm0749263', 'birth_year': 1967}>,\n",
      "  'type(rel)': 'PLAY'},\n",
      " {'endNode(rel)': <Node id=767 labels={'Character'} properties={'name': 'Gamora'}>,\n",
      "  'startNode(rel)': <Node id=181 labels={'Actor', 'Person'} properties={'profession': ['actress', 'producer', 'writer'], 'name': 'Zoe Saldana', 'id': 'nm0757855', 'birth_year': 1978}>,\n",
      "  'type(rel)': 'PLAY'}]\n"
     ]
    }
   ],
   "source": [
    "# Insert your code here\n",
    "\n",
    "query = \"\"\"\n",
    "MATCH ()-[rel]-()\n",
    "RETURN startNode(rel), endNode(rel), type(rel) LIMIT 10\n",
    "\"\"\"\n",
    "\n",
    "with driver.session() as session:\n",
    "    results = session.run(query)\n",
    "    pprint.pprint(results.data())\n"
   ]
  },
  {
   "cell_type": "markdown",
   "metadata": {},
   "source": [
    "* rewrite the previous query to get only the <code>name</code> of each end and the relationship type  "
   ]
  },
  {
   "cell_type": "code",
   "execution_count": 15,
   "metadata": {},
   "outputs": [
    {
     "name": "stdout",
     "output_type": "stream",
     "text": [
      "[{\"'Insert your code in this string'\": 'Insert your code in this string'}]\n"
     ]
    }
   ],
   "source": [
    "# Insert your code here\n",
    "\n",
    "query = \"\"\"\n",
    "RETURN 'Insert your code in this string'\n",
    "\"\"\"\n",
    "\n",
    "with driver.session() as session:\n",
    "    results = session.run(query)\n",
    "    pprint.pprint(results.data())"
   ]
  },
  {
   "cell_type": "code",
   "execution_count": 17,
   "metadata": {},
   "outputs": [
    {
     "name": "stdout",
     "output_type": "stream",
     "text": [
      "[{'end_name': 'Luis', 'relation': 'PLAY', 'start_name': 'Michael Peña'},\n",
      " {'end_name': 'Star-Lord', 'relation': 'PLAY', 'start_name': 'Chris Pratt'},\n",
      " {'end_name': 'Peter Quill', 'relation': 'PLAY', 'start_name': 'Chris Pratt'},\n",
      " {'end_name': 'Hawkeye', 'relation': 'PLAY', 'start_name': 'Jeremy Renner'},\n",
      " {'end_name': 'Clint Barton',\n",
      "  'relation': 'PLAY',\n",
      "  'start_name': 'Jeremy Renner'},\n",
      " {'end_name': 'Ant-Man', 'relation': 'PLAY', 'start_name': 'Paul Rudd'},\n",
      " {'end_name': 'Scott Lang', 'relation': 'PLAY', 'start_name': 'Paul Rudd'},\n",
      " {'end_name': 'Bruce Banner', 'relation': 'PLAY', 'start_name': 'Mark Ruffalo'},\n",
      " {'end_name': 'Hulk', 'relation': 'PLAY', 'start_name': 'Mark Ruffalo'},\n",
      " {'end_name': 'Gamora', 'relation': 'PLAY', 'start_name': 'Zoe Saldana'}]\n"
     ]
    }
   ],
   "source": [
    "# Insert your code here\n",
    "\n",
    "query = \"\"\"\n",
    "MATCH ()-[rel]-()\n",
    "RETURN startNode(rel).name AS start_name, \n",
    "endNode(rel).name AS end_name, \n",
    "type(rel) AS relation LIMIT 10\n",
    "\"\"\"\n",
    "\n",
    "with driver.session() as session:\n",
    "    results = session.run(query)\n",
    "    pprint.pprint(results.data())\n"
   ]
  },
  {
   "cell_type": "markdown",
   "metadata": {},
   "source": [
    "<center><h3>Complex queries</h3></center>\n",
    "\n",
    "<blockquote>\n",
    "A database like Neo4J is interesting because of the links between nodes. We can combine queries on nodes and on relationships to get useful information. \n",
    "\n",
    "For example, to get all the relationships going from a the nodes which <code>attribute1</code> is set to <code>\"value1\"</code> to other nodes, we can do the following: \n",
    "\n",
    "<br>\n",
    "<br>\n",
    "\n",
    "```cypher\n",
    "MATCH (n {attribute1: \"value1\"})\n",
    "MATCH (n)-[rel]->()\n",
    "RETURN rel\n",
    "```\n",
    "\n",
    "<br>\n",
    "<br>\n",
    "\n",
    "Moreover, if we want to query only the relationships from this first node to a second node whose attribute <code>attribute2</code> is set to <code>\"value2\"</code>, we can do the following: \n",
    "\n",
    "<br>\n",
    "<br>\n",
    "\n",
    "```cypher\n",
    "MATCH (n1 {attribute1: \"value1\"})\n",
    "MATCH (n2 {attribute2: \"value2\"})\n",
    "MATCH (n1)-[rel]->(n2)\n",
    "RETURN rel\n",
    "```\n",
    "\n",
    "<br>\n",
    "<br>\n",
    "\n",
    "If we do not care about the direction of the relationship between those nodes: \n",
    "\n",
    "<br>\n",
    "<br>\n",
    "\n",
    "```cypher\n",
    "MATCH (n1 {attribute1: \"value1\"})\n",
    "MATCH (n2 {attribute2: \"value2\"})\n",
    "MATCH (n1)-[rel]-(n2)\n",
    "RETURN rel\n",
    "```\n",
    "\n",
    "<br>\n",
    "<br>\n",
    "\n",
    "\n",
    "<br>\n",
    "<br>\n",
    "\n",
    "Finally, if we want only the neighbour nodes of our first node \n",
    "\n",
    "\n",
    "```cypher\n",
    "MATCH (n1 {attribute1: \"value1\"})\n",
    "MATCH (n1)-[rel]-(n2)\n",
    "RETURN n2\n",
    "```\n",
    "\n",
    "<br>\n",
    "<br>\n",
    "\n",
    "</blockquote>\n",
    "\n",
    "* write a query to return all the <code>Actor</code> nodes that played the <code>Character</code> whose <code>name</code> is <code>\"Bruce Banner\"</code>."
   ]
  },
  {
   "cell_type": "code",
   "execution_count": 18,
   "metadata": {},
   "outputs": [
    {
     "name": "stdout",
     "output_type": "stream",
     "text": [
      "[{\"'Insert your code in this string'\": 'Insert your code in this string'}]\n"
     ]
    }
   ],
   "source": [
    "# Insert your code here\n",
    "\n",
    "query = \"\"\"\n",
    "RETURN 'Insert your code in this string'\n",
    "\"\"\"\n",
    "\n",
    "with driver.session() as session:\n",
    "    results = session.run(query)\n",
    "    pprint.pprint(results.data())"
   ]
  },
  {
   "cell_type": "code",
   "execution_count": 19,
   "metadata": {},
   "outputs": [
    {
     "name": "stdout",
     "output_type": "stream",
     "text": [
      "[{'a': <Node id=178 labels={'Actor', 'Person'} properties={'profession': ['actor', 'producer', 'director'], 'name': 'Mark Ruffalo', 'id': 'nm0749263', 'birth_year': 1967}>},\n",
      " {'a': <Node id=826 labels={'Actor', 'Person'} properties={'profession': ['actor', 'producer', 'writer'], 'name': 'Edward Norton', 'id': 'nm0001570', 'birth_year': 1969}>}]\n"
     ]
    }
   ],
   "source": [
    "# Insert your code here\n",
    "\n",
    "query = \"\"\"\n",
    "MATCH (a:Actor)\n",
    "MATCH (c:Character {name: \"Bruce Banner\"})\n",
    "MATCH (a)-[rel:PLAY]->(c)\n",
    "RETURN a\n",
    "\"\"\"\n",
    "\n",
    "with driver.session() as session:\n",
    "    results = session.run(query)\n",
    "    pprint.pprint(results.data())\n"
   ]
  },
  {
   "cell_type": "markdown",
   "metadata": {},
   "source": [
    "* write a query to get all the <code>Character</code> nodes that <code>APPEAR_IN</code> in the movies whose <code>title</code> begins with <code>\"Iron Man\"</code>"
   ]
  },
  {
   "cell_type": "code",
   "execution_count": 20,
   "metadata": {},
   "outputs": [
    {
     "name": "stdout",
     "output_type": "stream",
     "text": [
      "[{\"'Insert your code in this string'\": 'Insert your code in this string'}]\n"
     ]
    }
   ],
   "source": [
    "# Insert your code here\n",
    "\n",
    "query = \"\"\"\n",
    "RETURN 'Insert your code in this string'\n",
    "\"\"\"\n",
    "\n",
    "with driver.session() as session:\n",
    "    results = session.run(query)\n",
    "    pprint.pprint(results.data())"
   ]
  },
  {
   "cell_type": "code",
   "execution_count": 21,
   "metadata": {},
   "outputs": [
    {
     "name": "stdout",
     "output_type": "stream",
     "text": [
      "[{'name': 'Obadiah Stane'},\n",
      " {'name': \"Lt. Col. James 'Rhodey' Rhodes\"},\n",
      " {'name': 'Iron Man'},\n",
      " {'name': 'Tony Stark'},\n",
      " {'name': 'Pepper Potts'},\n",
      " {'name': \"Lt. Col. James 'Rhodey' Rhodes\"},\n",
      " {'name': 'Pepper Potts'},\n",
      " {'name': 'Ivan Vanko'},\n",
      " {'name': 'Tony Stark'},\n",
      " {'name': 'Tony Stark'},\n",
      " {'name': 'Colonel James Rhodes'},\n",
      " {'name': 'Pepper Potts'},\n",
      " {'name': 'Aldrich Killian'},\n",
      " {'name': 'Shalchi'},\n",
      " {'name': 'Shahram'},\n",
      " {'name': 'The shop worker'},\n",
      " {'name': 'The Children Parents'}]\n"
     ]
    }
   ],
   "source": [
    "# Insert your code here\n",
    "\n",
    "query = \"\"\"\n",
    "MATCH (m:Movie)\n",
    "WHERE m.title STARTS WITH \"Iron Man\"\n",
    "MATCH (c:Character)\n",
    "MATCH (c)-[rel:APPEAR_IN]->(m)\n",
    "RETURN c.name AS name\n",
    "\"\"\"\n",
    "\n",
    "with driver.session() as session:\n",
    "    results = session.run(query)\n",
    "    pprint.pprint(results.data())\n"
   ]
  },
  {
   "cell_type": "markdown",
   "metadata": {},
   "source": [
    "* write a query to get all the <code>Movie</code> nodes in which the <code>Character</code> whose <code>name</code> is <code>\"Iron Man\"</code> <code>APPEAR_IN</code>"
   ]
  },
  {
   "cell_type": "code",
   "execution_count": 22,
   "metadata": {},
   "outputs": [
    {
     "name": "stdout",
     "output_type": "stream",
     "text": [
      "[{\"'Insert your code in this string'\": 'Insert your code in this string'}]\n"
     ]
    }
   ],
   "source": [
    "# Insert your code here\n",
    "\n",
    "query = \"\"\"\n",
    "RETURN 'Insert your code in this string'\n",
    "\"\"\"\n",
    "\n",
    "with driver.session() as session:\n",
    "    results = session.run(query)\n",
    "    pprint.pprint(results.data())"
   ]
  },
  {
   "cell_type": "code",
   "execution_count": 23,
   "metadata": {},
   "outputs": [
    {
     "name": "stdout",
     "output_type": "stream",
     "text": [
      "[{'m': <Node id=518 labels={'Movie'} properties={'runtime': 143, 'id': 'tt0848228', 'title': 'The Avengers', 'year': 2012, 'genres': ['Action', 'Adventure', 'Sci-Fi']}>},\n",
      " {'m': <Node id=540 labels={'Movie'} properties={'runtime': 147, 'id': 'tt3498820', 'title': 'Captain America: Civil War', 'year': 2016, 'genres': ['Action', 'Adventure', 'Sci-Fi']}>},\n",
      " {'m': <Node id=537 labels={'Movie'} properties={'runtime': 133, 'id': 'tt2250912', 'title': 'Spider-Man: Homecoming', 'year': 2017, 'genres': ['Action', 'Adventure', 'Sci-Fi']}>},\n",
      " {'m': <Node id=544 labels={'Movie'} properties={'runtime': 149, 'id': 'tt4154756', 'title': 'Avengers: Infinity War', 'year': 2018, 'genres': ['Action', 'Adventure', 'Sci-Fi']}>},\n",
      " {'m': <Node id=538 labels={'Movie'} properties={'runtime': 141, 'id': 'tt2395427', 'title': 'Avengers: Age of Ultron', 'year': 2015, 'genres': ['Action', 'Adventure', 'Sci-Fi']}>},\n",
      " {'m': <Node id=513 labels={'Movie'} properties={'runtime': 126, 'id': 'tt0371746', 'title': 'Iron Man', 'year': 2008, 'genres': ['Action', 'Adventure', 'Sci-Fi']}>},\n",
      " {'m': <Node id=545 labels={'Movie'} properties={'runtime': 181, 'id': 'tt4154796', 'title': 'Avengers: Endgame', 'year': 2019, 'genres': ['Action', 'Adventure', 'Sci-Fi']}>}]\n"
     ]
    }
   ],
   "source": [
    "# Insert your code here\n",
    "\n",
    "query = \"\"\"\n",
    "MATCH (c:Character {name: \"Iron Man\"})\n",
    "MATCH (m:Movie)\n",
    "MATCH (c)-[rel:APPEAR_IN]->(m)\n",
    "RETURN m\n",
    "\"\"\"\n",
    "\n",
    "with driver.session() as session:\n",
    "    results = session.run(query)\n",
    "    pprint.pprint(results.data())\n"
   ]
  },
  {
   "cell_type": "markdown",
   "metadata": {},
   "source": [
    "<blockquote>\n",
    "We can of course combine multiple relationship statements: \n",
    "\n",
    "For example, to get all the nodes that respond that are two relationships away from a node whose <code>attriute1</code> is set to <code>\"value1\"</code>, we can do the following: \n",
    "\n",
    "<br>\n",
    "<br>\n",
    "\n",
    "```cypher\n",
    "MATCH (n1 {attribute1: \"value1\"})\n",
    "MATCH (n1)-[]->()-[]->(n2)\n",
    "RETURN n2\n",
    "```\n",
    "<br>\n",
    "<br>\n",
    "\n",
    "<i>Remember that we do not need to name the relationships or the nodes if they are not used anymore.</i>\n",
    "</blockquote>\n",
    "\n",
    "* write a query to get all the <code>name</code> of the <code>Actor</code> that <code>PLAY</code> a <code>Character</code> in the <code>Movie</code> whose <code>title</code> is <code>'Avengers: Endgame'</code>."
   ]
  },
  {
   "cell_type": "code",
   "execution_count": 24,
   "metadata": {},
   "outputs": [
    {
     "name": "stdout",
     "output_type": "stream",
     "text": [
      "[{\"'Insert your code in this string'\": 'Insert your code in this string'}]\n"
     ]
    }
   ],
   "source": [
    "# Insert your code here\n",
    "\n",
    "query = \"\"\"\n",
    "RETURN 'Insert your code in this string'\n",
    "\"\"\"\n",
    "\n",
    "with driver.session() as session:\n",
    "    results = session.run(query)\n",
    "    pprint.pprint(results.data())"
   ]
  },
  {
   "cell_type": "code",
   "execution_count": 25,
   "metadata": {},
   "outputs": [
    {
     "name": "stdout",
     "output_type": "stream",
     "text": [
      "[{'name': 'Chris Evans'},\n",
      " {'name': 'Chris Hemsworth'},\n",
      " {'name': 'Mark Ruffalo'},\n",
      " {'name': 'Edward Norton'},\n",
      " {'name': 'Robert Downey Jr.'},\n",
      " {'name': 'Chris Evans'},\n",
      " {'name': 'Mark Ruffalo'},\n",
      " {'name': 'Robert Downey Jr.'}]\n"
     ]
    }
   ],
   "source": [
    "# Insert your code here\n",
    "\n",
    "query = \"\"\"\n",
    "MATCH (m:Movie {title: 'Avengers: Endgame'})\n",
    "MATCH (a:Actor)-[:PLAY]->()-[:APPEAR_IN]->(m)\n",
    "RETURN a.name as name\n",
    "\"\"\"\n",
    "\n",
    "with driver.session() as session:\n",
    "    results = session.run(query)\n",
    "    pprint.pprint(results.data())\n"
   ]
  },
  {
   "cell_type": "markdown",
   "metadata": {},
   "source": [
    "<blockquote>\n",
    "We can also use the directed relationships in opposite directions. For example if we want to get all the nodes that have a common neighbour with a node whose <code>attribute1</code> is set to value <code>\"value1\"</code> but that are not necessarily reachable from it, we can do the following:\n",
    "    \n",
    "<br>\n",
    "<br>\n",
    "    \n",
    "    \n",
    "```cypher\n",
    "MATCH (n1 {attribute1: \"value1\"})\n",
    "MATCH (n1)-[rel1]->(p)<-[rel2]-(n2)\n",
    "RETURN n2\n",
    "    \n",
    "```\n",
    "                                    \n",
    "<br>\n",
    "<br>\n",
    "\n",
    "</blockquote>\n",
    "\n",
    "* write a query to get the <code>name</code> of <code>Actor</code> that <code>PLAY</code> in the same <code>Movie</code> as the actor named <code>\"Robert Downey Jr.\"</code>. You can return only unique values by using the <code>DISTINCT</code> keyword right after <code>RETURN</code>."
   ]
  },
  {
   "cell_type": "code",
   "execution_count": 26,
   "metadata": {},
   "outputs": [
    {
     "name": "stdout",
     "output_type": "stream",
     "text": [
      "[{\"'Insert your code in this string'\": 'Insert your code in this string'}]\n"
     ]
    }
   ],
   "source": [
    "# Insert your code here\n",
    "\n",
    "query = \"\"\"\n",
    "RETURN 'Insert your code in this string'\n",
    "\"\"\"\n",
    "\n",
    "with driver.session() as session:\n",
    "    results = session.run(query)\n",
    "    pprint.pprint(results.data())"
   ]
  },
  {
   "cell_type": "code",
   "execution_count": 27,
   "metadata": {},
   "outputs": [
    {
     "name": "stdout",
     "output_type": "stream",
     "text": [
      "[{'name': 'Don Cheadle'},\n",
      " {'name': 'Gwyneth Paltrow'},\n",
      " {'name': 'Guy Pearce'},\n",
      " {'name': 'Robert Downey Jr.'},\n",
      " {'name': 'Chris Evans'},\n",
      " {'name': 'Sebastian Stan'},\n",
      " {'name': 'Scarlett Johansson'},\n",
      " {'name': 'Tom Holland'},\n",
      " {'name': 'Michael Keaton'},\n",
      " {'name': 'Marisa Tomei'},\n",
      " {'name': 'Chris Hemsworth'},\n",
      " {'name': 'Mark Ruffalo'},\n",
      " {'name': 'Edward Norton'},\n",
      " {'name': 'Jeremy Renner'},\n",
      " {'name': 'Jeff Bridges'},\n",
      " {'name': 'Terrence Howard'},\n",
      " {'name': 'Mickey Rourke'}]\n"
     ]
    }
   ],
   "source": [
    "# Insert your code here\n",
    "\n",
    "query = \"\"\"\n",
    "MATCH (a1:Actor {name: 'Robert Downey Jr.'})\n",
    "MATCH (m:Movie)\n",
    "MATCH (a1)-[:PLAY]->()-[:APPEAR_IN]->(m)<-[:APPEAR_IN]-()<-[:PLAY]-(a2)\n",
    "RETURN DISTINCT a2.name as name\n",
    "\"\"\"\n",
    "\n",
    "with driver.session() as session:\n",
    "    results = session.run(query)\n",
    "    pprint.pprint(results.data())\n"
   ]
  },
  {
   "cell_type": "markdown",
   "metadata": {},
   "source": [
    "<blockquote>\n",
    "\n",
    "Rather than using very complicated patterns, we can simply specify a number of relationships separating two nodes using <code>*number_of_relationships</code>.\n",
    "For example, if we want to get all the nodes 5 relationships from a node with attribute <code>attribute1</code> set to <code>\"value1\"</code>, we can use: \n",
    "\n",
    "<br>\n",
    "<br>\n",
    "\n",
    "```cypher\n",
    "MATCH (n1 {attribute1: \"value1\"})\n",
    "MATCH (n1)-[*5]-(n2)\n",
    "RETURN n2\n",
    "```\n",
    "\n",
    "<br>\n",
    "<br>\n",
    "\n",
    "If we want only one direction or one type of relationship, we can use as usual the regular syntax\n",
    "\n",
    "<br>\n",
    "<br>\n",
    "\n",
    "```cypher\n",
    "MATCH (n1 {attribute1: \"value1\"})\n",
    "MATCH (n1)-[*5]->(n2)\n",
    "RETURN n2\n",
    "```\n",
    "\n",
    "\n",
    "<br>\n",
    "<br>\n",
    "\n",
    "```cypher\n",
    "MATCH (n1 {attribute1: \"value1\"})\n",
    "MATCH (n1)-[*5:RELATIONSHIP_TYPE]-(n2)\n",
    "RETURN n2\n",
    "```\n",
    "\n",
    "<br>\n",
    "<br>\n",
    "\n",
    "</blockquote>\n",
    "\n",
    "* rewrite the previous query using this syntax"
   ]
  },
  {
   "cell_type": "code",
   "execution_count": 28,
   "metadata": {},
   "outputs": [
    {
     "name": "stdout",
     "output_type": "stream",
     "text": [
      "[{\"'Insert your code in this string'\": 'Insert your code in this string'}]\n"
     ]
    }
   ],
   "source": [
    "# Insert your code here\n",
    "\n",
    "query = \"\"\"\n",
    "RETURN 'Insert your code in this string'\n",
    "\"\"\"\n",
    "\n",
    "with driver.session() as session:\n",
    "    results = session.run(query)\n",
    "    pprint.pprint(results.data())"
   ]
  },
  {
   "cell_type": "code",
   "execution_count": 29,
   "metadata": {},
   "outputs": [
    {
     "name": "stdout",
     "output_type": "stream",
     "text": [
      "[{'name': 'Don Cheadle'},\n",
      " {'name': 'Gwyneth Paltrow'},\n",
      " {'name': 'Guy Pearce'},\n",
      " {'name': 'Robert Downey Jr.'},\n",
      " {'name': 'Chris Evans'},\n",
      " {'name': 'Sebastian Stan'},\n",
      " {'name': 'Scarlett Johansson'},\n",
      " {'name': 'Tom Holland'},\n",
      " {'name': 'Michael Keaton'},\n",
      " {'name': 'Marisa Tomei'},\n",
      " {'name': 'Chris Hemsworth'},\n",
      " {'name': 'Mark Ruffalo'},\n",
      " {'name': 'Edward Norton'},\n",
      " {'name': 'Jeremy Renner'},\n",
      " {'name': 'Jeff Bridges'},\n",
      " {'name': 'Terrence Howard'},\n",
      " {'name': 'Mickey Rourke'}]\n"
     ]
    }
   ],
   "source": [
    "# Insert your code here\n",
    "\n",
    "query = \"\"\"\n",
    "MATCH (a1:Actor {name: 'Robert Downey Jr.'})\n",
    "MATCH (a2:Actor)\n",
    "MATCH (a1)-[*4]-(a2)\n",
    "RETURN DISTINCT a2.name as name\n",
    "\"\"\"\n",
    "\n",
    "with driver.session() as session:\n",
    "    results = session.run(query)\n",
    "    pprint.pprint(results.data())\n"
   ]
  },
  {
   "cell_type": "markdown",
   "metadata": {},
   "source": [
    "<blockquote>\n",
    "\n",
    "We can also make queries with a given range of relationship length. For example to get all the nodes that are from 3 to 5 relationships appart from a node with <code>attribute1</code> set to <code>value1</code>: \n",
    "\n",
    "<br>\n",
    "<br>\n",
    "\n",
    "```cypher\n",
    "MATCH (n1 {attribute1: \"value1\"})\n",
    "MATCH (n1)-[*3..5]->(n2)\n",
    "RETURN n2\n",
    "```\n",
    "\n",
    "<br>\n",
    "<br>\n",
    "\n",
    "To get a minimum of 3 relationships: \n",
    "\n",
    "<br>\n",
    "<br>\n",
    "\n",
    "```cypher\n",
    "MATCH (n1 {attribute1: \"value1\"})\n",
    "MATCH (n1)-[*3..]->(n2)\n",
    "RETURN n2\n",
    "```\n",
    "\n",
    "<br>\n",
    "<br>\n",
    "\n",
    "To get a maximum of 5 relationships:\n",
    "\n",
    "<br>\n",
    "<br>\n",
    "\n",
    "```cypher\n",
    "MATCH (n1 {attribute1: \"value1\"})\n",
    "MATCH (n1)-[*..5]->(n2)\n",
    "RETURN n2\n",
    "```\n",
    "\n",
    "<br>\n",
    "<br>\n",
    "\n",
    "To get all the nodes that are reachable from a given node: \n",
    "\n",
    "<br>\n",
    "<br>\n",
    "\n",
    "```cypher\n",
    "MATCH (n1 {attribute1: \"value1\"})\n",
    "MATCH (n1)-[*]->(n2)\n",
    "RETURN n2\n",
    "```\n",
    "\n",
    "</blockquote>\n",
    "\n",
    "* make a query to get all the nodes that are reachable from <code>\"Robert Downey Jr.\"</code> within a maximum of 3 relationships."
   ]
  },
  {
   "cell_type": "code",
   "execution_count": 30,
   "metadata": {},
   "outputs": [
    {
     "name": "stdout",
     "output_type": "stream",
     "text": [
      "[{\"'Insert your code in this string'\": 'Insert your code in this string'}]\n"
     ]
    }
   ],
   "source": [
    "# Insert your code here\n",
    "\n",
    "query = \"\"\"\n",
    "RETURN 'Insert your code in this string'\n",
    "\"\"\"\n",
    "\n",
    "with driver.session() as session:\n",
    "    results = session.run(query)\n",
    "    pprint.pprint(results.data())"
   ]
  },
  {
   "cell_type": "code",
   "execution_count": 31,
   "metadata": {},
   "outputs": [
    {
     "name": "stdout",
     "output_type": "stream",
     "text": [
      "[{'n2': <Node id=784 labels={'Character'} properties={'name': 'Iron Man'}>},\n",
      " {'n2': <Node id=545 labels={'Movie'} properties={'runtime': 181, 'id': 'tt4154796', 'title': 'Avengers: Endgame', 'year': 2019, 'genres': ['Action', 'Adventure', 'Sci-Fi']}>},\n",
      " {'n2': <Node id=513 labels={'Movie'} properties={'runtime': 126, 'id': 'tt0371746', 'title': 'Iron Man', 'year': 2008, 'genres': ['Action', 'Adventure', 'Sci-Fi']}>},\n",
      " {'n2': <Node id=538 labels={'Movie'} properties={'runtime': 141, 'id': 'tt2395427', 'title': 'Avengers: Age of Ultron', 'year': 2015, 'genres': ['Action', 'Adventure', 'Sci-Fi']}>},\n",
      " {'n2': <Node id=544 labels={'Movie'} properties={'runtime': 149, 'id': 'tt4154756', 'title': 'Avengers: Infinity War', 'year': 2018, 'genres': ['Action', 'Adventure', 'Sci-Fi']}>},\n",
      " {'n2': <Node id=537 labels={'Movie'} properties={'runtime': 133, 'id': 'tt2250912', 'title': 'Spider-Man: Homecoming', 'year': 2017, 'genres': ['Action', 'Adventure', 'Sci-Fi']}>},\n",
      " {'n2': <Node id=540 labels={'Movie'} properties={'runtime': 147, 'id': 'tt3498820', 'title': 'Captain America: Civil War', 'year': 2016, 'genres': ['Action', 'Adventure', 'Sci-Fi']}>},\n",
      " {'n2': <Node id=518 labels={'Movie'} properties={'runtime': 143, 'id': 'tt0848228', 'title': 'The Avengers', 'year': 2012, 'genres': ['Action', 'Adventure', 'Sci-Fi']}>},\n",
      " {'n2': <Node id=522 labels={'Character'} properties={'name': 'Tony Stark'}>},\n",
      " {'n2': <Node id=520 labels={'Movie'} properties={'runtime': 124, 'id': 'tt1228705', 'title': 'Iron Man 2', 'year': 2010, 'genres': ['Action', 'Adventure', 'Sci-Fi']}>},\n",
      " {'n2': <Node id=513 labels={'Movie'} properties={'runtime': 126, 'id': 'tt0371746', 'title': 'Iron Man', 'year': 2008, 'genres': ['Action', 'Adventure', 'Sci-Fi']}>},\n",
      " {'n2': <Node id=544 labels={'Movie'} properties={'runtime': 149, 'id': 'tt4154756', 'title': 'Avengers: Infinity War', 'year': 2018, 'genres': ['Action', 'Adventure', 'Sci-Fi']}>},\n",
      " {'n2': <Node id=538 labels={'Movie'} properties={'runtime': 141, 'id': 'tt2395427', 'title': 'Avengers: Age of Ultron', 'year': 2015, 'genres': ['Action', 'Adventure', 'Sci-Fi']}>},\n",
      " {'n2': <Node id=518 labels={'Movie'} properties={'runtime': 143, 'id': 'tt0848228', 'title': 'The Avengers', 'year': 2012, 'genres': ['Action', 'Adventure', 'Sci-Fi']}>},\n",
      " {'n2': <Node id=545 labels={'Movie'} properties={'runtime': 181, 'id': 'tt4154796', 'title': 'Avengers: Endgame', 'year': 2019, 'genres': ['Action', 'Adventure', 'Sci-Fi']}>},\n",
      " {'n2': <Node id=537 labels={'Movie'} properties={'runtime': 133, 'id': 'tt2250912', 'title': 'Spider-Man: Homecoming', 'year': 2017, 'genres': ['Action', 'Adventure', 'Sci-Fi']}>},\n",
      " {'n2': <Node id=540 labels={'Movie'} properties={'runtime': 147, 'id': 'tt3498820', 'title': 'Captain America: Civil War', 'year': 2016, 'genres': ['Action', 'Adventure', 'Sci-Fi']}>},\n",
      " {'n2': <Node id=521 labels={'Movie'} properties={'runtime': 130, 'id': 'tt1300854', 'title': 'Iron Man 3', 'year': 2013, 'genres': ['Action', 'Adventure', 'Sci-Fi']}>}]\n"
     ]
    }
   ],
   "source": [
    "# Insert your code here\n",
    "\n",
    "query = \"\"\"\n",
    "MATCH (a1:Actor {name: 'Robert Downey Jr.'})\n",
    "MATCH (a1)-[*..3]->(n2)\n",
    "RETURN n2\n",
    "\"\"\"\n",
    "\n",
    "with driver.session() as session:\n",
    "    results = session.run(query)\n",
    "    pprint.pprint(results.data())\n"
   ]
  },
  {
   "cell_type": "code",
   "execution_count": 32,
   "metadata": {},
   "outputs": [
    {
     "name": "stdout",
     "output_type": "stream",
     "text": [
      "[{'name': 'Don Cheadle'},\n",
      " {'name': 'Gwyneth Paltrow'},\n",
      " {'name': 'Guy Pearce'},\n",
      " {'name': 'Robert Downey Jr.'},\n",
      " {'name': 'Chris Evans'},\n",
      " {'name': 'Sebastian Stan'},\n",
      " {'name': 'Scarlett Johansson'},\n",
      " {'name': 'Tom Holland'},\n",
      " {'name': 'Michael Keaton'},\n",
      " {'name': 'Marisa Tomei'},\n",
      " {'name': 'Chris Hemsworth'},\n",
      " {'name': 'Mark Ruffalo'},\n",
      " {'name': 'Edward Norton'},\n",
      " {'name': 'Jeremy Renner'},\n",
      " {'name': 'Jeff Bridges'},\n",
      " {'name': 'Terrence Howard'},\n",
      " {'name': 'Mickey Rourke'}]\n"
     ]
    }
   ],
   "source": [
    "# Insert your code here\n",
    "\n",
    "query = \"\"\"\n",
    "MATCH (a1:Actor {name: 'Robert Downey Jr.'})\n",
    "MATCH (a2:Actor)\n",
    "MATCH (a1)-[*4]-(a2)\n",
    "RETURN DISTINCT a2.name as name\n",
    "\"\"\"\n",
    "\n",
    "with driver.session() as session:\n",
    "    results = session.run(query)\n",
    "    pprint.pprint(results.data())\n"
   ]
  },
  {
   "cell_type": "code",
   "execution_count": null,
   "metadata": {},
   "outputs": [],
   "source": []
  },
  {
   "cell_type": "code",
   "execution_count": null,
   "metadata": {},
   "outputs": [],
   "source": []
  }
 ],
 "metadata": {
  "kernelspec": {
   "display_name": "Python 3",
   "language": "python",
   "name": "python3"
  },
  "language_info": {
   "codemirror_mode": {
    "name": "ipython",
    "version": 3
   },
   "file_extension": ".py",
   "mimetype": "text/x-python",
   "name": "python",
   "nbconvert_exporter": "python",
   "pygments_lexer": "ipython3",
   "version": "3.6.9"
  }
 },
 "nbformat": 4,
 "nbformat_minor": 4
}
