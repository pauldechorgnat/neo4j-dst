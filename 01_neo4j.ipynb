{
 "cells": [
  {
   "cell_type": "markdown",
   "metadata": {},
   "source": [
    "<img src=\"https://datascientest.fr/train/assets/logo_datascientest.png\" style=\"height:150px\">\n",
    "\n",
    "<hr style=\"border-width:2px;border-color:#75DFC1\">\n",
    "<center><h1>Neo4J</h1></center>\n",
    "<center><h2>Introduction to NoSQL</h2></center>\n",
    "<hr style=\"border-width:2px;border-color:#75DFC1\">\n",
    "\n",
    "<blockquote>\n",
    "Relational databases have been around since the 70s. They are well developped, well documented. They are great to use for reprensenting relations betweens different entities. Yet, they require a strict schema.\n",
    "\n",
    "Today, developpers may require different storing facilities. Especially given the variety of data created, a \n",
    "strict schema for the data you want to store might be a liability. \n",
    "\n",
    "For example, if you want to store user activity on a website. This website is going to evolve, have mew pages, new features. If you want to keep track of the using of those new features, you might have to update the schema of your database. \n",
    "\n",
    "Lately, a lot of emphasis has been put on NoSQL databases that allow for more flexibility on the data schema and thus permit to manage data with a wide range of formats. \n",
    "\n",
    "NoSQL DBMS consist in a wide range of technologies, techniques and paradigms but we can see three main families. \n",
    "* Document oriented databases\n",
    "* Column oriented databases\n",
    "* Graph oriented databases\n",
    "\n",
    "<div class=\"alert alert-info\"><i class='fa fa-exclamation-circle'></i> &emsp; Originally, NoSQL stands for No SQL, meaning Database Management Systems that are not based on the relational paradigm. It has been renamed Not Only SQL as the frontier between the two families became blurier.</div>\n",
    "\n",
    "In this lesson, we will introduce you to <b>graph oriented databases</b> and one of its main representative: <b>Neo4J</b>\n",
    "</blockquote>\n",
    "\n",
    "<hr style=\"border-width:2px;border-color:#75DFC1\">\n",
    "<center><h2>Graph oriented databases</h2></center>\n",
    "<hr style=\"border-width:2px;border-color:#75DFC1\">\n",
    "\n",
    "<blockquote>\n",
    "Graph databases is very different from other NoSQL database management system (DBMS): it focuses on relationships between pieces of data: observations are represented as nodes of a graph while relationships are reprenseted by edges. This allow for different algorithm to be used such as <b>shortest path algorithms</b>, <b>centrality computation</b> or <b>community detection</b>... \n",
    "\n",
    "There are some graph DBMS: the most used is Neo4J but OrientDB, ArangoDB, Apache Giraph are also known DBMS.\n",
    "\n",
    "<h4>Example of a graph: social networks</h4>\n",
    "<i>One of the main example of those databases and the use of such algorithms are social networks: social networks are all about relationships between individuals and out of the structure of the surrounding individuals, we can draw a lot of insights.</i>\n",
    "\n",
    "<i>Let's imagine a Twitter-like social network: people can follow other people but the relationship is not necessarily mutual. Our social network contain 4 people: Alice, Bob, Clementine and Daniel. Their relationships are the following: </i>\n",
    "<i>\n",
    "    <ul>\n",
    "        <li>Alice follows Bob.</li>\n",
    "        <li>Bob follows Alice.</li>\n",
    "        <li>Clementine follows Alice.</li>\n",
    "        <li>Daniel follows everyone.</li>\n",
    "    </ul>\n",
    "</i>\n",
    "<i>On the following figure, people are reprensted by circles and follows are represented by directed arrows: those are respectively the nodes and the edges of the graph.\n",
    "</i>\n",
    "\n",
    "<center><img src=\"./example_graph.png\"></center>\n",
    "\n",
    "<i>We can figure out pretty easily which person is the most important but when the graph is thoussands and thoussands of nodes large, we need complex algorithms, storing facilities and a specific computing engine to do the same thing.</i>\n",
    "\n",
    "<div class=\"alert alert-info\"><i class='fa fa-exclamation-circle'></i> &emsp; This lesson is not aimed at reviewing graph theory algorithms: we will discuss the possibilities offered by a DBMS such as Neo4J. If you want to learn more about graph structures, you can do the lesson on <b>network analysis with NetworkX</b></div>\n",
    "</blockquote>\n",
    "\n",
    "<hr style=\"border-width:2px;border-color:#75DFC1\">\n",
    "<center><h2>Neo4J</h2></center>\n",
    "<hr style=\"border-width:2px;border-color:#75DFC1\">\n",
    "\n",
    "<blockquote>\n",
    "<a href=\"https://neo4j.com/\" >Neo4J</a> is the most popular Graph Database Management Systems. Open Source and developed in Java, it was first released in 2000. \n",
    "\n",
    "<center><img src=\"https://go.neo4j.com/rs/710-RRC-335/images/neo4j_logo.png?_ga=2.145041332.1480733316.1565603663-2087695512.1562231281\" style=\"width:50%\"></center>\n",
    "\n",
    "\n",
    "One of its main advantages is that data is natively stored in a graph fashion: the storage is optimized for graph algorithms. Another great feature is its UI and visualization facilities (which we wille not be able to use here). Moreover, developpers at Neo have created a query language designed for graph databases: <b>Cypher</b>. \n",
    "\n",
    "Although there are a lot of way to query data with Neo4J (a lot of client libraries exists and you can use directly Java), we will focus on the use of Cypher in this lesson.\n",
    "\n",
    "<div class=\"alert alert-warning\"><i class='fa fa-exclamation-circle'></i> &emsp; We will not use directly <b>Neo4J</b> but <b><a href=\"https://www.docker.com/\">Docker</a></b> images of Neo4J. Moreover, we cannot use directly <b>Cypher</b> in a notebook so we will use a modified version of the `neo4j` library to make queries in plain strings for a docker.</div>\n",
    "</blockquote>\n",
    "\n",
    "* from the `neo_utils.py` file import the `Neo4JForDockerDriver` class.\n",
    "* instantiate this class in an object named `neo4j`"
   ]
  },
  {
   "cell_type": "code",
   "execution_count": 1,
   "metadata": {},
   "outputs": [],
   "source": [
    "# Insert your code here\n"
   ]
  },
  {
   "cell_type": "code",
   "execution_count": 2,
   "metadata": {},
   "outputs": [],
   "source": [
    "# Insert your  here\n",
    "\n",
    "from neo_utils import Neo4JForDockerDriver\n",
    "neo4j = Neo4JForDockerDriver()"
   ]
  },
  {
   "cell_type": "markdown",
   "metadata": {},
   "source": [
    "<blockquote>\n",
    "We have to create a driver to run <b>Cypher</b> queries. Once created, we will use the neo4j as if there was no Docker implied.\n",
    "</blockquote>    \n",
    "\n",
    "* start the Docker container using the `launch_container` method of `neo4j`\n",
    "* use the `create_driver` method of `neo4j` and store the result in an object named `driver`"
   ]
  },
  {
   "cell_type": "code",
   "execution_count": 3,
   "metadata": {},
   "outputs": [],
   "source": [
    "# Insert your code here\n"
   ]
  },
  {
   "cell_type": "code",
   "execution_count": 4,
   "metadata": {},
   "outputs": [],
   "source": [
    "# Insert your code here\n",
    "\n",
    "neo4j.launch_container()\n",
    "driver = neo4j.create_driver()"
   ]
  },
  {
   "cell_type": "markdown",
   "metadata": {},
   "source": [
    "<blockquote>\n",
    "    To run a query, we will use the context of a <code>session</code>.\n",
    "</blockquote>\n",
    "\n",
    "* run the following cell to see how this works <i>(do not worry about the cypher code for now: it just returns every node)</i>"
   ]
  },
  {
   "cell_type": "code",
   "execution_count": 5,
   "metadata": {},
   "outputs": [
    {
     "name": "stdout",
     "output_type": "stream",
     "text": [
      "<neo4j.BoltStatementResult object at 0x7fb93e698710>\n"
     ]
    }
   ],
   "source": [
    "# Run this cell \n",
    "\n",
    "# opening the session context\n",
    "with driver.session() as session:\n",
    "    # writing CYPHER language into the session.run method\n",
    "    results = session.run('MATCH (n) RETURN n')\n",
    "    print(results)"
   ]
  },
  {
   "cell_type": "code",
   "execution_count": null,
   "metadata": {},
   "outputs": [],
   "source": []
  }
 ],
 "metadata": {
  "kernelspec": {
   "display_name": "Python 3",
   "language": "python",
   "name": "python3"
  },
  "language_info": {
   "codemirror_mode": {
    "name": "ipython",
    "version": 3
   },
   "file_extension": ".py",
   "mimetype": "text/x-python",
   "name": "python",
   "nbconvert_exporter": "python",
   "pygments_lexer": "ipython3",
   "version": "3.6.9"
  }
 },
 "nbformat": 4,
 "nbformat_minor": 4
}
